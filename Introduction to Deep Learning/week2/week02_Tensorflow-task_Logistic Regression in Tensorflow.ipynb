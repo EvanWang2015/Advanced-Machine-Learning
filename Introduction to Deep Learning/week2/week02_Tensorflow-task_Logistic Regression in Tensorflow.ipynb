{
 "cells": [
  {
   "cell_type": "markdown",
   "metadata": {
    "slideshow": {
     "slide_type": "slide"
    }
   },
   "source": [
    "# Going deeper with Tensorflow\n",
    "\n",
    "In this video, we're going to study the tools you'll use to build deep learning models. Namely, [Tensorflow](https://www.tensorflow.org/).\n",
    "\n",
    "If you're running this notebook outside the course environment, you'll need to install tensorflow:\n",
    "* `pip install tensorflow` should install cpu-only TF on Linux & Mac OS\n",
    "* If you want GPU support from offset, see [TF install page](https://www.tensorflow.org/install/)"
   ]
  },
  {
   "cell_type": "code",
   "execution_count": 1,
   "metadata": {
    "collapsed": true
   },
   "outputs": [],
   "source": [
    "import sys\n",
    "sys.path.append(\"..\")\n",
    "import grading"
   ]
  },
  {
   "cell_type": "markdown",
   "metadata": {},
   "source": [
    "# Visualization"
   ]
  },
  {
   "cell_type": "markdown",
   "metadata": {},
   "source": [
    "Plase note that if you are running on the Coursera platform, you won't be able to access the tensorboard instance due to the network setup there. If you run the notebook locally, you should be able to access TensorBoard on http://127.0.0.1:7007/"
   ]
  },
  {
   "cell_type": "code",
   "execution_count": 2,
   "metadata": {},
   "outputs": [
    {
     "name": "stdout",
     "output_type": "stream",
     "text": [
      "/bin/sh: 1: killall: not found\r\n"
     ]
    }
   ],
   "source": [
    "! killall tensorboard\n",
    "import os\n",
    "os.system(\"tensorboard --logdir=/tmp/tboard --port=7007 &\");"
   ]
  },
  {
   "cell_type": "code",
   "execution_count": null,
   "metadata": {
    "collapsed": true
   },
   "outputs": [],
   "source": []
  },
  {
   "cell_type": "code",
   "execution_count": 3,
   "metadata": {
    "collapsed": true
   },
   "outputs": [],
   "source": [
    "import tensorflow as tf\n",
    "s = tf.InteractiveSession()"
   ]
  },
  {
   "cell_type": "markdown",
   "metadata": {},
   "source": [
    "# Warming up\n",
    "For starters, let's implement a python function that computes the sum of squares of numbers from 0 to N-1."
   ]
  },
  {
   "cell_type": "code",
   "execution_count": 4,
   "metadata": {
    "collapsed": true
   },
   "outputs": [],
   "source": [
    "import numpy as np\n",
    "def sum_sin(N):\n",
    "    return np.sum(np.arange(N)**2)"
   ]
  },
  {
   "cell_type": "code",
   "execution_count": 5,
   "metadata": {},
   "outputs": [
    {
     "name": "stdout",
     "output_type": "stream",
     "text": [
      "CPU times: user 516 ms, sys: 1.12 s, total: 1.63 s\n",
      "Wall time: 2.61 s\n"
     ]
    },
    {
     "data": {
      "text/plain": [
       "662921401752298880"
      ]
     },
     "execution_count": 5,
     "metadata": {},
     "output_type": "execute_result"
    }
   ],
   "source": [
    "%%time\n",
    "sum_sin(10**8)"
   ]
  },
  {
   "cell_type": "markdown",
   "metadata": {},
   "source": [
    "# Tensoflow teaser\n",
    "\n",
    "Doing the very same thing"
   ]
  },
  {
   "cell_type": "code",
   "execution_count": 6,
   "metadata": {
    "collapsed": true
   },
   "outputs": [],
   "source": [
    "# An integer parameter\n",
    "N = tf.placeholder('int64', name=\"input_to_your_function\")\n",
    "\n",
    "# A recipe on how to produce the same result\n",
    "result = tf.reduce_sum(tf.range(N)**2)"
   ]
  },
  {
   "cell_type": "code",
   "execution_count": 7,
   "metadata": {},
   "outputs": [
    {
     "data": {
      "text/plain": [
       "<tf.Tensor 'Sum:0' shape=() dtype=int64>"
      ]
     },
     "execution_count": 7,
     "metadata": {},
     "output_type": "execute_result"
    }
   ],
   "source": [
    "result"
   ]
  },
  {
   "cell_type": "code",
   "execution_count": 8,
   "metadata": {},
   "outputs": [
    {
     "name": "stdout",
     "output_type": "stream",
     "text": [
      "CPU times: user 508 ms, sys: 188 ms, total: 696 ms\n",
      "Wall time: 627 ms\n"
     ]
    },
    {
     "data": {
      "text/plain": [
       "662921401752298880"
      ]
     },
     "execution_count": 8,
     "metadata": {},
     "output_type": "execute_result"
    }
   ],
   "source": [
    "%%time\n",
    "result.eval({N: 10**8})"
   ]
  },
  {
   "cell_type": "code",
   "execution_count": 9,
   "metadata": {
    "collapsed": true
   },
   "outputs": [],
   "source": [
    "writer = tf.summary.FileWriter(\"/tmp/tboard\", graph=s.graph)"
   ]
  },
  {
   "cell_type": "markdown",
   "metadata": {},
   "source": [
    "# How does it work?\n",
    "1. Define placeholders where you'll send inputs\n",
    "2. Make symbolic graph: a recipe for mathematical transformation of those placeholders\n",
    "3. Compute outputs of your graph with particular values for each placeholder\n",
    "  * `output.eval({placeholder:value})`\n",
    "  * `s.run(output, {placeholder:value})`\n",
    "\n",
    "So far there are two main entities: \"placeholder\" and \"transformation\"\n",
    "* Both can be numbers, vectors, matrices, tensors, etc.\n",
    "* Both can be int32/64, floats, booleans (uint8) of various size.\n",
    "\n",
    "* You can define new transformations as an arbitrary operation on placeholders and other transformations\n",
    " * `tf.reduce_sum(tf.arange(N)**2)` are 3 sequential transformations of placeholder `N`\n",
    " * There's a tensorflow symbolic version for every numpy function\n",
    "   * `a+b, a/b, a**b, ...` behave just like in numpy\n",
    "   * `np.mean` -> `tf.reduce_mean`\n",
    "   * `np.arange` -> `tf.range`\n",
    "   * `np.cumsum` -> `tf.cumsum`\n",
    "   * If if you can't find the op you need, see the [docs](https://www.tensorflow.org/api_docs/python).\n",
    "   \n",
    "`tf.contrib` has many high-level features, may be worth a look."
   ]
  },
  {
   "cell_type": "code",
   "execution_count": 10,
   "metadata": {
    "collapsed": true
   },
   "outputs": [],
   "source": [
    "with tf.name_scope(\"Placeholders_examples\"):\n",
    "    # Default placeholder that can be arbitrary float32\n",
    "    # scalar, vertor, matrix, etc.\n",
    "    arbitrary_input = tf.placeholder('float32')\n",
    "\n",
    "    # Input vector of arbitrary length\n",
    "    input_vector = tf.placeholder('float32', shape=(None,))\n",
    "\n",
    "    # Input vector that _must_ have 10 elements and integer type\n",
    "    fixed_vector = tf.placeholder('int32', shape=(10,))\n",
    "\n",
    "    # Matrix of arbitrary n_rows and 15 columns\n",
    "    # (e.g. a minibatch your data table)\n",
    "    input_matrix = tf.placeholder('float32', shape=(None, 15))\n",
    "    \n",
    "    # You can generally use None whenever you don't need a specific shape\n",
    "    input1 = tf.placeholder('float64', shape=(None, 100, None))\n",
    "    input2 = tf.placeholder('int32', shape=(None, None, 3, 224, 224))\n",
    "\n",
    "    # elementwise multiplication\n",
    "    double_the_vector = input_vector*2\n",
    "\n",
    "    # elementwise cosine\n",
    "    elementwise_cosine = tf.cos(input_vector)\n",
    "\n",
    "    # difference between squared vector and vector itself plus one\n",
    "    vector_squares = input_vector**2 - input_vector + 1"
   ]
  },
  {
   "cell_type": "code",
   "execution_count": 11,
   "metadata": {
    "collapsed": true
   },
   "outputs": [],
   "source": [
    "my_vector =  tf.placeholder('float32', shape=(None,), name=\"VECTOR_1\")\n",
    "my_vector2 = tf.placeholder('float32', shape=(None,))\n",
    "my_transformation = my_vector * my_vector2 / (tf.sin(my_vector) + 1)"
   ]
  },
  {
   "cell_type": "code",
   "execution_count": 12,
   "metadata": {},
   "outputs": [
    {
     "name": "stdout",
     "output_type": "stream",
     "text": [
      "Tensor(\"truediv:0\", shape=(?,), dtype=float32)\n"
     ]
    }
   ],
   "source": [
    "print(my_transformation)"
   ]
  },
  {
   "cell_type": "code",
   "execution_count": 13,
   "metadata": {},
   "outputs": [
    {
     "name": "stdout",
     "output_type": "stream",
     "text": [
      "[ 0.  1.  2.  3.  4.]\n"
     ]
    },
    {
     "data": {
      "text/plain": [
       "array([ 0.        ,  1.62913239,  2.09501147,  2.62899613,  0.        ], dtype=float32)"
      ]
     },
     "execution_count": 13,
     "metadata": {},
     "output_type": "execute_result"
    }
   ],
   "source": [
    "dummy = np.arange(5).astype('float32')\n",
    "print(dummy)\n",
    "my_transformation.eval({my_vector:dummy, my_vector2:dummy[::-1]})"
   ]
  },
  {
   "cell_type": "code",
   "execution_count": 14,
   "metadata": {
    "collapsed": true
   },
   "outputs": [],
   "source": [
    "writer.add_graph(my_transformation.graph)\n",
    "writer.flush()"
   ]
  },
  {
   "cell_type": "markdown",
   "metadata": {},
   "source": [
    "TensorBoard allows writing scalars, images, audio, histogram. You can read more on tensorboard usage [here](https://www.tensorflow.org/get_started/graph_viz)."
   ]
  },
  {
   "cell_type": "markdown",
   "metadata": {},
   "source": [
    "# Summary\n",
    "* Tensorflow is based on computation graphs\n",
    "* The graphs consist of placehlders and transformations"
   ]
  },
  {
   "cell_type": "markdown",
   "metadata": {},
   "source": [
    "# Mean squared error\n",
    "\n",
    "Your assignment is to implement mean squared error in tensorflow."
   ]
  },
  {
   "cell_type": "code",
   "execution_count": 15,
   "metadata": {
    "collapsed": true
   },
   "outputs": [],
   "source": [
    "with tf.name_scope(\"MSE\"):\n",
    "    y_true = tf.placeholder(\"float32\", shape=(None,), name=\"y_true\")\n",
    "    y_predicted = tf.placeholder(\"float32\", shape=(None,), name=\"y_predicted\")\n",
    "    # Your code goes here\n",
    "    # You want to use tf.reduce_mean\n",
    "    # mse = tf.<...>\n",
    "    mse = tf.reduce_mean(tf.subtract(y_true, y_predicted)**2)\n",
    "def compute_mse(vector1, vector2):\n",
    "    return mse.eval({y_true: vector1, y_predicted: vector2})"
   ]
  },
  {
   "cell_type": "code",
   "execution_count": 16,
   "metadata": {
    "collapsed": true
   },
   "outputs": [],
   "source": [
    "writer.add_graph(mse.graph)\n",
    "writer.flush()"
   ]
  },
  {
   "cell_type": "markdown",
   "metadata": {},
   "source": [
    "Tests and result submission. Please use the credentials obtained from the Coursera assignment page."
   ]
  },
  {
   "cell_type": "code",
   "execution_count": 17,
   "metadata": {
    "collapsed": true
   },
   "outputs": [],
   "source": [
    "import submit"
   ]
  },
  {
   "cell_type": "code",
   "execution_count": 18,
   "metadata": {},
   "outputs": [
    {
     "name": "stdout",
     "output_type": "stream",
     "text": [
      "Submitted to Coursera platform. See results on assignment page!\n"
     ]
    }
   ],
   "source": [
    "submit.submit_mse(compute_mse, \"...\", \"....\")"
   ]
  },
  {
   "cell_type": "markdown",
   "metadata": {},
   "source": [
    "# Variables\n",
    "\n",
    "The inputs and transformations have no value outside function call. This isn't too comfortable if you want your model to have parameters (e.g. network weights) that are always present, but can change their value over time.\n",
    "\n",
    "Tensorflow solves this with `tf.Variable` objects.\n",
    "* You can assign variable a value at any time in your graph\n",
    "* Unlike placeholders, there's no need to explicitly pass values to variables when `s.run(...)`-ing\n",
    "* You can use variables the same way you use transformations \n",
    " "
   ]
  },
  {
   "cell_type": "code",
   "execution_count": 19,
   "metadata": {
    "collapsed": true
   },
   "outputs": [],
   "source": [
    "# Creating a shared variable\n",
    "shared_vector_1 = tf.Variable(initial_value=np.ones(5),\n",
    "                              name=\"example_variable\")"
   ]
  },
  {
   "cell_type": "code",
   "execution_count": 20,
   "metadata": {},
   "outputs": [
    {
     "name": "stdout",
     "output_type": "stream",
     "text": [
      "Initial value [ 1.  1.  1.  1.  1.]\n"
     ]
    }
   ],
   "source": [
    "# Initialize variable(s) with initial values\n",
    "s.run(tf.global_variables_initializer())\n",
    "\n",
    "# Evaluating shared variable (outside symbolicd graph)\n",
    "print(\"Initial value\", s.run(shared_vector_1))\n",
    "\n",
    "# Within symbolic graph you use them just\n",
    "# as any other inout or transformation, not \"get value\" needed"
   ]
  },
  {
   "cell_type": "code",
   "execution_count": 21,
   "metadata": {},
   "outputs": [
    {
     "name": "stdout",
     "output_type": "stream",
     "text": [
      "New value [ 0.  1.  2.  3.  4.]\n"
     ]
    }
   ],
   "source": [
    "# Setting a new value\n",
    "s.run(shared_vector_1.assign(np.arange(5)))\n",
    "\n",
    "# Getting that new value\n",
    "print(\"New value\", s.run(shared_vector_1))"
   ]
  },
  {
   "cell_type": "markdown",
   "metadata": {},
   "source": [
    "# tf.gradients - why graphs matter\n",
    "* Tensorflow can compute derivatives and gradients automatically using the computation graph\n",
    "* True to its name it can manage matrix derivatives\n",
    "* Gradients are computed as a product of elementary derivatives via the chain rule:\n",
    "\n",
    "$$ {\\partial f(g(x)) \\over \\partial x} = {\\partial f(g(x)) \\over \\partial g(x)}\\cdot {\\partial g(x) \\over \\partial x} $$\n",
    "\n",
    "It can get you the derivative of any graph as long as it knows how to differentiate elementary operations"
   ]
  },
  {
   "cell_type": "code",
   "execution_count": 22,
   "metadata": {
    "collapsed": true
   },
   "outputs": [],
   "source": [
    "my_scalar = tf.placeholder('float32')\n",
    "\n",
    "scalar_squared = my_scalar**2\n",
    "\n",
    "# A derivative of scalar_squared by my_scalar\n",
    "derivative = tf.gradients(scalar_squared, [my_scalar, ])"
   ]
  },
  {
   "cell_type": "code",
   "execution_count": 23,
   "metadata": {},
   "outputs": [
    {
     "data": {
      "text/plain": [
       "[<tf.Tensor 'gradients/pow_1_grad/Reshape:0' shape=<unknown> dtype=float32>]"
      ]
     },
     "execution_count": 23,
     "metadata": {},
     "output_type": "execute_result"
    }
   ],
   "source": [
    "derivative"
   ]
  },
  {
   "cell_type": "code",
   "execution_count": 24,
   "metadata": {},
   "outputs": [
    {
     "data": {
      "image/png": "[encoded data removed]",
      "text/plain": [
       "<matplotlib.figure.Figure at 0x7f5e8aae26a0>"
      ]
     },
     "metadata": {},
     "output_type": "display_data"
    }
   ],
   "source": [
    "import matplotlib.pyplot as plt\n",
    "%matplotlib inline\n",
    "\n",
    "x = np.linspace(-3, 3)\n",
    "x_squared, x_squared_der = s.run([scalar_squared, derivative[0]],\n",
    "                                 {my_scalar:x})\n",
    "\n",
    "plt.plot(x, x_squared,label=\"$x^2$\")\n",
    "plt.plot(x, x_squared_der, label=r\"$\\frac{dx^2}{dx}$\")\n",
    "plt.legend();"
   ]
  },
  {
   "cell_type": "markdown",
   "metadata": {},
   "source": [
    "# Why that rocks"
   ]
  },
  {
   "cell_type": "code",
   "execution_count": 25,
   "metadata": {
    "collapsed": true
   },
   "outputs": [],
   "source": [
    "my_vector = tf.placeholder('float32', [None])\n",
    "# Compute the gradient of the next weird function over my_scalar and my_vector\n",
    "# Warning! Trying to understand the meaning of that function may result in permanent brain damage\n",
    "weird_psychotic_function = tf.reduce_mean(\n",
    "    (my_vector+my_scalar)**(1+tf.nn.moments(my_vector,[0])[1]) + \n",
    "    1./ tf.atan(my_scalar))/(my_scalar**2 + 1) + 0.01*tf.sin(\n",
    "    2*my_scalar**1.5)*(tf.reduce_sum(my_vector)* my_scalar**2\n",
    "                      )*tf.exp((my_scalar-4)**2)/(\n",
    "    1+tf.exp((my_scalar-4)**2))*(1.-(tf.exp(-(my_scalar-4)**2)\n",
    "                                    )/(1+tf.exp(-(my_scalar-4)**2)))**2\n",
    "\n",
    "der_by_scalar = tf.gradients(weird_psychotic_function, my_scalar)\n",
    "der_by_vector = tf.gradients(weird_psychotic_function, my_vector)"
   ]
  },
  {
   "cell_type": "code",
   "execution_count": 26,
   "metadata": {},
   "outputs": [
    {
     "data": {
      "image/png": "[encoded data removed]",
      "text/plain": [
       "<matplotlib.figure.Figure at 0x7f5e83eaef60>"
      ]
     },
     "metadata": {},
     "output_type": "display_data"
    }
   ],
   "source": [
    "# Plotting the derivative\n",
    "scalar_space = np.linspace(1, 7, 100)\n",
    "\n",
    "y = [s.run(weird_psychotic_function, {my_scalar:x, my_vector:[1, 2, 3]})\n",
    "     for x in scalar_space]\n",
    "\n",
    "plt.plot(scalar_space, y, label='function')\n",
    "\n",
    "y_der_by_scalar = [s.run(der_by_scalar,\n",
    "                         {my_scalar:x, my_vector:[1, 2, 3]})\n",
    "                   for x in scalar_space]\n",
    "\n",
    "plt.plot(scalar_space, y_der_by_scalar, label='derivative')\n",
    "plt.grid()\n",
    "plt.legend();"
   ]
  },
  {
   "cell_type": "markdown",
   "metadata": {},
   "source": [
    "# Almost done - optimizers\n",
    "\n",
    "While you can perform gradient descent by hand with automatic grads from above, tensorflow also has some optimization methods implemented for you. Recall momentum & rmsprop?"
   ]
  },
  {
   "cell_type": "code",
   "execution_count": 27,
   "metadata": {
    "collapsed": true
   },
   "outputs": [],
   "source": [
    "y_guess = tf.Variable(np.zeros(2, dtype='float32'))\n",
    "y_true = tf.range(1, 3, dtype='float32')\n",
    "loss = tf.reduce_mean((y_guess - y_true + tf.random_normal([2]))**2) \n",
    "#loss = tf.reduce_mean((y_guess - y_true)**2) \n",
    "optimizer = tf.train.MomentumOptimizer(0.01, 0.5).minimize(\n",
    "    loss, var_list=y_guess)"
   ]
  },
  {
   "cell_type": "code",
   "execution_count": 28,
   "metadata": {},
   "outputs": [
    {
     "data": {
      "image/png": "[encoded data removed]",
      "text/plain": [
       "<matplotlib.figure.Figure at 0x7f5e834a6908>"
      ]
     },
     "metadata": {},
     "output_type": "display_data"
    }
   ],
   "source": [
    "from matplotlib import animation, rc\n",
    "import matplotlib_utils\n",
    "from IPython.display import HTML\n",
    "\n",
    "fig, ax = plt.subplots()\n",
    "y_true_value = s.run(y_true)\n",
    "level_x = np.arange(0, 2, 0.02)\n",
    "level_y = np.arange(0, 3, 0.02)\n",
    "X, Y = np.meshgrid(level_x, level_y)\n",
    "Z = (X - y_true_value[0])**2 + (Y - y_true_value[1])**2\n",
    "ax.set_xlim(-0.02, 2)\n",
    "ax.set_ylim(-0.02, 3)\n",
    "s.run(tf.global_variables_initializer())\n",
    "ax.scatter(*s.run(y_true), c='red')\n",
    "contour = ax.contour(X, Y, Z, 10)\n",
    "ax.clabel(contour, inline=1, fontsize=10)\n",
    "line, = ax.plot([], [], lw=2)\n",
    "\n",
    "def init():\n",
    "    line.set_data([], [])\n",
    "    return (line,)\n",
    "\n",
    "guesses = [s.run(y_guess)]\n",
    "\n",
    "def animate(i):\n",
    "    s.run(optimizer)\n",
    "    guesses.append(s.run(y_guess))\n",
    "    line.set_data(*zip(*guesses))\n",
    "    return (line,)\n",
    "\n",
    "anim = animation.FuncAnimation(fig, animate, init_func=init,\n",
    "                               frames=400, interval=20, blit=True)"
   ]
  },
  {
   "cell_type": "code",
   "execution_count": 29,
   "metadata": {},
   "outputs": [
    {
     "data": {
      "text/html": [
       "<img src=\"data:image/jpeg;base64,/9j/4AAQSkZJRgABAQAAAQABAAD/2wBDAAIBAQEBAQIBAQECAgICAgQDAgICAgUEBAMEBgUGBgYFBgYGBwkIBgcJBwYGCAsICQoKCgoKBggLDAsKDAkKCgr/2wBDAQICAgICAgUDAwUKBwYHCgoKCgoKCgoKCgoKCgoKCgoKCgoKCgoKCgoKCgoKCgoKCgoKCgoKCgoKCgoKCgoKCgr/wAARCAEgAbADASIAAhEBAxEB/8QAHwAAAQUBAQEBAQEAAAAAAAAAAAECAwQFBgcICQoL/8QAtRAAAgEDAwIEAwUFBAQAAAF9AQIDAAQRBRIhMUEGE1FhByJxFDKBkaEII0KxwRVS0fAkM2JyggkKFhcYGRolJicoKSo0NTY3ODk6Q0RFRkdISUpTVFVWV1hZWmNkZWZnaGlqc3R1dnd4eXqDhIWGh4iJipKTlJWWl5iZmqKjpKWmp6ipqrKztLW2t7i5usLDxMXGx8jJytLT1NXW19jZ2uHi4%2BTl5ufo6erx8vP09fb3%2BPn6/8QAHwEAAwEBAQEBAQEBAQAAAAAAAAECAwQFBgcICQoL/8QAtREAAgECBAQDBAcFBAQAAQJ3AAECAxEEBSExBhJBUQdhcRMiMoEIFEKRobHBCSMzUvAVYnLRChYkNOEl8RcYGRomJygpKjU2Nzg5OkNERUZHSElKU1RVVldYWVpjZGVmZ2hpanN0dXZ3eHl6goOEhYaHiImKkpOUlZaXmJmaoqOkpaanqKmqsrO0tba3uLm6wsPExcbHyMnK0tPU1dbX2Nna4uPk5ebn6Onq8vP09fb3%2BPn6/9oADAMBAAIRAxEAPwD9/KKKKACiiigAooooAKKKKACiiigAooooAKKKKACiiigAooooAKKKKACiiigAooooAKKKKACiiigAooooAKKKKACiiigAooooAKKKKACiiigAooooAKKKKACiiigAooooAKKKKACiiigAooooAKKKKACiiigAorj/AAR%2B0J8A/iZ431n4Z/Dj44eD/EHiTw5JJH4h8P6J4ltbu%2B0t0kMTrcQRSNJAVkBQh1GGG088VZtfjb8Gb74p3PwLsvi54Ym8b2dgL288HRa/btqsFqQpE72gfzljIdPnK7fmXnkUAdPRRRQAUUUUAFFFFABRRRQAUUUUAFFFFABRRRQAUUUUAFFFFABRRRQAUUUUAFFFFABRRRQAUUUUAFFFFABRRRQAUUUUAFFFFABRRRQAUUUUAFFFFABRRRQAUUUUAFFFFABRRRQAUUUUAfIz%2BIrvxH/wUT0j40aVp3xZ1nw/4Z8I6/pWr2XiP4WX%2Bn6b4Ukmn0yMNpUo06CbVWu5bUtJiS%2BRUQyxvbxjbLy/g74f/EGL9qTw98N5fhR4oh17Qf2nfEnj3WvGcvhq6TSpvDt5oWp29tImpmP7NPIVvbDT/sqyGZPszMYxHCr19w0UAeIftr%2BO/wBp34WeFtF8bfAPx94D022ufF/hzw/qFj4v8B3uqyO%2Bq67Y6X9ojlttVsxGIkvDJ5ZR95jA3oDkWf8AhB/%2BChf/AEdB8Gf/AAw%2Brf8AzUUft4f8kQ0P/ss3w4/9TXRK9moA8Z/4Qf8A4KF/9HQfBn/ww%2Brf/NRVbWdA/bz8OaRdeIPEP7W3wQsLCyt3nvb29%2BB2qRQ28SAs0ju3ikKigAkkkAAZrtvhz8ddL%2BIPxC8S/DO58F65oGp%2BHTHIkWuxQx/2nZvJNEt5biOVy0JlglTLBW4UlQHUnwnxj4Y%2BMnh7SfE/w8%2BNujX%2BsaZ8RPFEvhqz8ZS%2BM3nuFS8eQ2EkOlRwrDawQsyQuY2EpCNOwKqSOulhHOfLN2emnVp9tbOyu/6dsZ1Uo3Svv/X3lHxB8b/27NYt/Cy/AD9pj4A%2BOLnxXqV3bWWPhRqtnboLWBp58y/8JHKfNCqAsRUFtwJKoC47H4Paz%2B3j8Zfh1p3xD0P9pT4RWkd4JYrqwvPgJqyz2V1DK8FxbSj/AISjiSKaOSNscbkOOKzfC3wc%2BK/xk%2BI914s8Z%2BCNU8Aatplhpl2de32sscviW1M0TXVtHHI3m272k8sT7wm%2BO5ZPvLlPb/gn8K5vhL4RuNG1LxGNX1PUtYvNV1nU0sVtUuLu5lMkjJCpYRoMgBdzHC5LMSSdcTTwtKlyxfvffvfqtNrbWflrpNKVWUrvb%2BvmeEeBx/wWR8RfFHWNF8XeKPgJ4e8H2FxPDpniCf4dapc32qbWxHMlnF4gKRRuAW/eThxkZTOcegf8IP8A8FC/%2BjoPgz/4YfVv/mor2aiuKclN3UUvS/6tm0U0tXc8Z/4Qf/goX/0dB8Gf/DD6t/8ANRR/wg//AAUL/wCjoPgz/wCGH1b/AOaivZqw/iF8T/ht8JPDsni/4qfEDRPDWlQ/63Ute1SGzgXjODJKyrn8amMZSdoq7K3PNf8AhB/%2BChf/AEdB8Gf/AAw%2Brf8AzUUf8IP/AMFC/wDo6D4M/wDhh9W/%2BaiuQn/4Kh/BjxncPpn7Lfwu%2BInxlulcx/afAPhOX%2BzEkzgB9SvDBaBf9pZH78HFNHiv/gqv8XOfD3wo%2BFXwe0%2BX5Wl8V65ceJtVjH98QWQgtVb2M7jPr1rs/s/ER/i2h/iaT%2B7WX/kpfJLrodj/AMIP/wAFC/8Ao6D4M/8Ahh9W/wDmorK8XH9tXwBpZ1vx5%2B2j8BNEsl%2B9eav8F9Stoh/wOTxUB%2BtYn/DB3xr%2BIH779or/AIKJfFfXc8PpvgZ7TwnYsvdStjGbgj63BODyTWt4R/4JZ/sB%2BE9UGv3H7NOh%2BItT6vqnjiWfX7h267i%2BoyTHOeeMY7Yo9lgYfHVcv8Mf1k1%2BQWgup4x4q/4KMP4T1I6Kf%2BCo37O2tXwyBZeD/gRrmuzE%2BgTTvEs5J7YxWb/w3d%2B3rr//ACSnwjrXi1H/AOPe8tP2O9a022l9CJdT8W2w2%2B/P0r7m8K%2BCvBvgTTRovgjwlpmjWa/dtNKsI7eIf8BjUD9K06Pa4CPw0pP1lb8Ix/ULw7HwPH8av%2BDgjxA4bwj%2BzN8I7OBz8k3jHRfsJx6lLTxNeMv0IzXffCy1/wCC7ev%2BI7T/AIW94p/ZT8N6I%2B77ZLo/hPxHqd9F8jbdsTalBE3z7QcyjAJPJAB%2BuqKieIpSjaNKK/8AAm/xl%2BgnJdjxn/hB/wDgoX/0dB8Gf/DD6t/81FH/AAg//BQv/o6D4M/%2BGH1b/wCaivZqK5STxn/hB/8AgoX/ANHQfBn/AMMPq3/zUUf8IP8A8FC/%2BjoPgz/4YfVv/mor2aigDxn/AIQf/goX/wBHQfBn/wAMPq3/AM1FH/CD/wDBQv8A6Og%2BDP8A4YfVv/mor2aigDxn/hB/%2BChf/R0HwZ/8MPq3/wA1FH/CD/8ABQvt%2B1B8Gf8Aww%2Brf/NRXs1FAHxJ4k1P/g4i8P7pdK0j9kfX0H3E0%2Bw8RW8jD3E96qg/8CNYI/aJ/wCC63hg%2Bd8Sv2XvBot1/wBZP4J8CQ6wf%2BAxyeMLaRv%2B%2BRX3zRXZHE0bWlRi/wDwJflJ/kVzLsfK/wCz98Sv%2BChPx%2B0zUr9/GnhvwRNpk8cU1j8Qf2YtX06WYspO6EjxY6TKMYLIxAJA71pfEvxF/wAFBvh74t8EeC7f9oL4M6he%2BNvEj6Xbr/wpTVYRaxRWNzeTXJ/4qZt4VLbbs%2BXLSKNwr6Wrzbx/%2BzPoHjv4y6D8dU%2BI/jDSdb8O288NhbafrKyaeVmiaKQtZ3EcsIYqeXRVf5R83XMU5Yd13Jq0bOy1lrZ27PfW/QFy3PBf2g/jh/wUO%2BCWpXmmaH8V/hH4kfQPDMniXxhJD8GdStk0nR42kDT5fxOTNKfJmKQqAWELfMOM60Hxz/aoufinb/CGL9rP4VnUrm7SyS7/AOGbde%2BwrfvaC8Wxa6/4SXyluTbETeUWB2%2B4xXb/ABj/AGSvHXxJ8U31xpHxXtLTR/Fvh6w0bx8l1ope9u7e1mkk3WsiSpHCZlkeGRWjZQrFkw2c8PqP7PH7SK6v4g8LaD4b06z0/TfFeu%2BL9B8S/wBqKf7Sv5bcppVsIBmSLySyrK78MLddmRIQnXTo4GpSScrO3e333XR9F038qSg0dT4Q179rv4gavqvh/wACftzfs%2Ba1qGhXAg1ux0r4O6hcTafISQEnRPFZaIkq2AwGcH0rf/4Qf/goX/0dB8Gf/DD6t/8ANRXF/sZeCtWfxvoXiLRPBHiDw54Z8GfCDTvCaQeJdBm0271HUzMJrl3imVXkEIiTE2NjyXc5RnBLH0f4l/ttfsqfBj4q2/wW%2BMHxs0fwr4gu7OO5s4vEbPZW1wjlgoS7mVbdnypygk3jIyBuGeethJKu6dFOVlfRXfntfyfW1yXHWyMz/hB/%2BChf/R0HwZ/8MPq3/wA1FH/CD/8ABQv/AKOg%2BDP/AIYfVv8A5qK9f0vVdM1zTodX0XUoLy0uYxJb3VrMskcqHoyspIYH1FT1x7EnjP8Awg//AAUL/wCjoPgz/wCGH1b/AOaivP8AwGP%2BCyGo/FLVfB/xL8UfATSfDkFvLNo3i/R/h1ql9HeYlVUhltpPEEMsEpRi5wHjGxhvPy5%2BpqKuM1FNOKd/XTzWv53Jaba1Pmf48eIv%2BCh/wV%2BHFx41sPjv8F9d1F7q3sdG0I/BrV7RtRvriVYbeBZB4jl2lpHUE7DhdzHhTV/4ieI/2wPhBo9pr3xY/ba%2BAnh2zvb2Ozgu9W%2BCmqQwtcPnam9/FIAzg8nA47V6B8VvgFqvxB%2BJ3hf4raX8TdStJfCt2bq28M30Edzo93N9nuIVmki2rKkyi5YrIkgA2qSjEDHC/tNQ/EnxB4m8NL4X%2BFfixvF2g3kEnhzWNKeCbQLk3Pl29/HeCQsUiSCSfJliRyozCxc7R10aVCqoQv3bezXZa6WVt9d3poZTnUhzO3a39I2bTwl/wUAv7WK/sP2qvgrPBPGskM0PwK1VkkQjIZSPFOCCDkEVJ/wg/wDwUL/6Og%2BDP/hh9W/%2BaivNdS%2BMuueHtf0z4uRfEy50Hw1a%2BK9StLHwjZ20MenQeGNKW4TULuaLZv377d3VwRtCRqnDkN7F8G/j74n%2BIXjWbwN47%2BFzeFr2Xw3a6/pVrLq4uZ3sppHj23MYjX7NOrpgx5cfNw5KsqzVwVWnHmWq/L/O11e2g4V4SdjjNS8Y/tm/CX40/Crw18Ufi38MPEvh/wAeeNbvQdTtNA%2BF2o6ReW4j8P6vqcc0VxNrl2gPm6dGjK0JysjYKkA19A14z%2B1B/wAlv/Zx/wCyzX3/AKhXiivZq4zYKKKKACiiigAooooAKKKKACiiigDxn9vD/kiGh/8AZZvhx/6muiV0/gH9pT4cfFD4t%2BIvhB4Dg1jUbnwoGj17Wo9HlXS7a8V1VrEXTAJJcru3MibtoByQRiuY/bw/5Ihof/ZZvhx/6muiV7KiJGCI0CgkkgDHJ5Jq4umovmV301tb/P00Jak2rM8u%2BLvwe%2BKHi/41eDviZ8MfGOkeHP7Ds72013Ubqwe8ub%2BynMTGzSHckajfEsgmdm2OgxGwZs9XafB34fJ4nsPHus%2BHrbV/EemWrW9l4i1W2jlvIUZmLBH2gR53EHYFyMA8AV09FW69VxUb2sraaaeb3e//AABKnFNvuFVtY1nSPD2lXOva/qttY2NnA015e3k6xRQRqMs7uxAVQASSTgAVT8bjxq3hHUV%2BHEulprptWGlPrUUj2izY%2BUyrGyuyDuFZSemR1rxI634q/ae/ZI8b/C/4i32k6V430d7vw94oxGYLAalAUeGULIzMltcxtbTKCzER3O3cWXNOlR9ouZvS6T7q/W3b9TRK50PxC/a50a2t/C6/s/aJp3xJufFUeoXGm/2P4khjtpYLKBZpglwFkR52EkYjh%2BXduLFkVGYeLeI/2k/G2seIvHnx48DfE3XI38H2eka/o3gW/mt4dP1fwsSseoRLGU3C/W5ttShLl2MU0duufLlUHV8I/Br4i/Gf40%2BIfGll4M1/4Z3UA0vV5dQ1PTY2iTxVbyPb3Eluqybby2ubGOGOZl2hl2bX3l9nr/gL9kj4Z6b4G0zw78X/AA5oHjjU7DXb3WhqeqeG4hFDfXVzJcubaGQym3iV5SI497lAifMSoNelfA4RWau9L7N66vvHbTRp63NPcid/418PXXjjwNqfhfTfFeqaDNqumy28GtaQUjvLBpEKrPF5qMqyoSGG9CARyp6V4z8Pf%2BCZ37IngzxFH498YeA7r4ieK05bxb8UtVl8QX5bsym7LRwkdvJjjA7CvfaK82nicRRg405OKe9tPxWvyvbyM1KSWgy3t4LSBLW1gSOKNAsccahVVQMAADoBT6KKwEFFFc/8SPiv8Lfg34bk8ZfF34k6B4V0iLPm6p4j1iCxt04zzJMyqPzpqMpOyV2NJydktToKK%2BVbz/gsN%2Byj4lvJdI/Zo8N/Eb4330LlJYvhD4AvNTtUYcfNfyrDYgZ4z5%2BB37UwftEf8FW/iv8Au/hN/wAE/PB3w9tZPmg1f4x/FJJZdnYtY6NDclWxztadT2OOtdX1HEr40o/4mo/g3f8AA6fqWIXxpR/xNL8G7/gfVtFfKY/Z0/4KwfEX/S/iR/wUZ8HeBkk4l0v4VfByGTYO4W61i5ujn38ketL/AMOsh4k/efF//goR%2B0x4saTm5th8UTo1rJ6jydIgtcL/ALJJ%2BtH1fDx%2BKsvkpP8ASKD2FCPxVV8lJ/okfVTukal3YKoGSScACuR8S/tBfAXwYzJ4w%2BN3hDSSn3xqXiW1gK/XfIMV4Kn/AARR/wCCal2wm8Xfs%2BXXimbOZJ/GfjjWtZaRvUi8vJF/IAV13hr/AIJX/wDBNPwkqjRP2BvhAGT7st18PdPuJB/wOWJm/WjlwC%2B1J/8AbsV%2BcmHLgl9qT%2BSX5yZtar/wUO/YB0Jimt/ty/B6zK/eF18TNKjI/wC%2BrgVjzf8ABUv/AIJoQNtf/goJ8Fyf9j4m6W38p67DSv2Nf2QdCULon7Knw2swv3Ra%2BBtPjx/3zCK2If2d/wBn%2B3XZB8DPByD0TwzaD%2BUdF8v7T/8AJP8AIP8AYe0//Jf8jzq2/wCCon/BNS7YJD/wUE%2BCuT0D/FDSl/8AQrgVvaN%2B3p%2Bwz4iYJ4f/AGz/AIT3xb7os/iLpkuf%2B%2BZzXSXX7N/7O96uy9%2BAnguYHqJfC1ow/WOsHWP2HP2KfEKlNf8A2PvhbfBvvC8%2BH%2Bmy5/76hNH/AAn/AN//AMkD/Yf7/wD5Kdn4X%2BK3wu8blV8F/EnQNXLfdGl6xBcZ%2Bnlsa36%2BdPFH/BIn/gl74vDDVv2B/hVFu6nS/BtrYn8DbIhFYB/4Iv8A7BGknz/hr4P8beBrkf6u68DfFnxDphj/AN1Ir7yx/wB8UcmAe05L1in%2BUg5cE9pyXrFP8pH1VRXyp/w7X%2BLPg7/Svgj/AMFR/wBojQrhf9VD4n1/TvE9qvplNTspZG/GWk/4Vb/wWO%2BGf/Im/tY/Bf4oQdfI%2BIPw3vNBuSPT7Rpd1LGD/tfZ8f7NP6tRl8FaPzUo/mmvxD6vRl8NVfNSj%2Baa/E%2BrKK%2BUT%2B2h%2B338Kv8Ak4f/AIJda/qljD8s%2Bu/BXx3p/iFXP95bK7%2BxXQHsFc8dzgVreB/%2BCvP7BfiXxDD4G8efF24%2BGfiWY7T4Z%2BL2gXnhe7V%2BmwHUY4opGyQP3bvycUngcVa8Y8y/utS/Jt/gDweJteMeZf3Wpfk2/wAD6YoqtpGsaR4g0yDW9B1W2vrK5jEltd2c6yxSoejK6khh7g1Zrk2OXYKzfFng3wh4%2B0Kfwt468K6brWmXK4udO1axjuYJR6NHICrfiK0qKabi7oD5r1P/AIJe/A3wrqVx4o/ZU8aeMPglrM8hmkk%2BHGuNDps8nUedpdwJbKRAf4REv1FV28af8FL/ANnH/kffh14Z%2BPfhuD7%2BseCGXQPEiRjlnfT7l2tLlsdFhmiJ7L2P05RXasfWnpWSqL%2B9q/8AwJWl%2BLL5299Txv4E/t6/s0fH/wARv8PNA8ZT6B40gH%2Bm/D/xrp8mka5btjJH2S5CtKB3eLzE/wBqvZK4T48fsxfAD9p3w4nhb48/CjSPEltCd1nLfW%2BLmyf/AJ6W9whWW3f/AG43VvevFn%2BCH7cf7JP%2Bn/syfFR/i/4Og5b4a/FHVNmr28Y/g0/W9uWPQLHeK6gDHmjrR7LCYj%2BFLkl2lt8p/wDySXqFoy20PqSivHP2eP24fgz%2B0D4hufhkU1Twd8QdNi36x8N/Gtl9g1i1UdZEjYlbqHjImgaSMgg5GcV7HXLVo1aE%2BSorP%2BvvXmm15ktNOzPOPHX7K3wb8WeG/GGmaH4K0nQNT8a2jRazrul6TCtxNIWDrLJ8uJT5gV2DcOR82au/CL4O6j4C1zXPH3jbxmfEfirxILWPVdXWw%2ByQrb2yOsFtBAHfyokaWeTBdiXnkJY547qiqeIrOm4OV0/%2BB13totPJGfs4KV7HjH7TrF/jb%2BzkShX/AIvPfjB9vBXijmvZ68Z/ag/5Lf8As4/9lmvv/UK8UV7NWJYUUUUAFFFFABRRRQAUUUUAeD%2BFPjN%2B0Fof7Z9v%2Bzp8QvEHgjxJpes%2BEdV8RLF4V8OXlje%2BFbaC9toLFb6Wa9uI7oXQmuFR1jtSXsZiiSKshiwvhX%2B1P8Xdd/bS8V/A34seJtE8M6Lb%2BJ7nTfAGgX/wn1u0ufE9tFpdvdm4tdenuxp93IrtdlreCBpBHauSAEZx0Xwm/YlvPg58QvG/xG8OftZfE27uvH2uT6rrcGrW3h2cLO7IIljm/sgXHlW8KLbwxPK6RxcBS3z1v337LUHiL45aL8a/Hvxv8a%2BIofC2tXOr%2BEfB2pHTI9J0W%2Bms7iyaeL7NZRXUxW2u7qNBc3EyqJ2IG5UZQDjP%2BChfxc%2BFHhrwf4M%2BFHiP4neHtP8AFPiD4w/D2XQfDV7rUEWoakkfjPRmka3t2cSTBVVixRSAFJOMGvoevGf28P8AkiGh/wDZZvhx/wCprolezUAFcT8ff2h/hD%2BzH8PZviZ8Z/F8OlaakqwWsexpbm/uX4jtraFAXuJnPCxoCx5PQEjH/an/AGpPBn7LXge11zV9Ivde8Ra7fLpvgvwXowD6h4h1Fx8ltAvYD7zyt8kaAs3YHhP2dv2RfGep/EGD9rX9tPVbLxL8UXiYaDpFsS%2Bj%2BBbZ%2BtppyNw05GBLeN%2B8kIwpVOG7KOHgqftq7tDolvJ9l2S6yei2V3oqUVa72PRP2afih8YvjD4JuvHvxb%2BBs3w%2BjvdRZvDWhanqaz6kdO2J5ct9Gi7LWdm3kwB3KKVViGBFJo37LXwo0z40678ftSt9Q1bxJrwgSWTVdQaS1tYoVVYo4bVdsClduRKyNNyQZCOK9GorF1pKcnT91S0sr7dtdenz/AV9dAooorEQUUV4H%2B1B/wAFAfh78BfGlt8Bfhr4M1b4o/F/VbYTaR8L/BpRrtIjgC6v53Pk6ZaZK5nnIyD8iuQRWlKlUrT5YK7/AK1fRLzdkaU6VStLlgrv%2Bt%2By82e9SyxQRNNNIqIilndjgKB1JPYV8w%2BP/wDgqp8FLjxfe/CX9kbwN4l%2BP3jayk8m70n4YWyT6bpsx6LfavKyWNoM5BBlZ1I5SsC0/YK%2BP/7YEi%2BKf%2BCnXxm%2B3aJMwktvgR8Nr%2Bew8M2y9Vj1G6UpdazIMKWDtHb7gcRFTX1L8Pfhx8PvhL4Qsvh/8LfA%2BkeHNC06Ly7DR9D06O0tbdfRIolVV/AV08uEofE%2BeXZaR%2B/d/JJeZvy4Wh8T532Wkfv3fySXmfMq/CH/AIKp/tN/6R8Z/wBofwz8AvDVx97wp8IrJdZ19om6xzazqEfkQyD%2B9bWp9nrovht/wSX/AGGvAviSP4g%2BMfhTN8S/Fy8yeMvi7q8/ifUXfOd6tftJHCfTyUjA7CvpKipljcRblg%2BRdo6fe1q/nITxle1oPlXaOn4rV/NkVlZWWm2cWn6daRW9vCgSGCCMIkagYCqo4AA7CpaKK5DlCiiigAooooAKKKKACiiigAooooAKKKKACsjxx8PvAXxO8OzeEPiV4I0jxDpNwMXGl65psV3by/70cqsrfiK16Kabi7oabTuj5W1n/gkN%2BzT4Z1OfxV%2ByV4t8cfAPXJpDK9x8JPE0llp88nUedpUwlsJUz1XyFyO44Ipv4k/4K0/stjd4r8JeDf2lvC0H%2Bs1DwwE8K%2BLI4%2BpdrSZ30%2B8YD%2BGOW3Zj0XkCvrWiutY2tLSraa/vav8A8C0l%2BLOlYyrLSraa/vav79Jfizwn9nX/AIKOfst/tH%2BLX%2BFWk%2BKdQ8I/EG3TN98MviJpUmieILfgk4tLjBuFwM%2BZA0seP4q92rzr9o79kr9nD9rfwmngv9or4QaP4otIH8ywnvYCl3p8uQRLa3MZWa1kBA%2BeJ0b3rwGb4c/8FBP2BR/afwV8Wap%2B0Z8LLUZuPAfjDUI08aaNAOT/AGfqb7Y9VVRki3u9sxCqqzMTT9lhq/8ACfLLtJ6fKWn3SS9R%2Bzw9f%2BG%2BV9pPT5S/%2BSS9T7DorzL9lz9r/wCA/wC2F4MuPF/wU8WvcTaZc/ZPEfh7VLR7PVtBvBndaX1nKBLbSqQwwww20lSy816bXLOnOlNxmrNdGc04TpycZKzQUUUVBJ5z%2B0Z%2Byj8Dv2p/D1tonxd8ICe702Xz9B8Q6dcNaarotwMFZ7O7iIlgcEA/Kdp2gMGHFeKj42/tJfsAzppH7W9/efEf4So4js/jJp2n/wDE18Px5wq65aQjEsQHH26BccZljUtur6wplxb293bva3UCSxSoUkjkUMrqRggg8EEdq66OLcIeyqrmh2fTzi94v8H1T3KUrKz2KvhvxL4d8Y6BZeK/CWu2eqaXqNslxp%2Bo6fcrNBcwuMrJG6Eq6kEEEEg1dr5I8Y/CT4if8E5NevfjV%2Byv4bvtf%2BEF3cveePvg5YL5kuhhjum1TQkP3ccvLYjCONxj2tgD6a%2BGPxN8A/GbwBpPxT%2BF3im01vw/rlkl1pWqWUm6OeJu47gg5BUgMrAqQCCKWIw6pxVSm%2BaD2fVPtJdH%2BDWqdtiUbarY82/ag/5Lf%2Bzj/wBlmvv/AFCvFFezV4z%2B1B/yW/8AZx/7LNff%2BoV4or2auUkKKKKACiiigAooooAKKKKACiiigDxn9vD/AJIhof8A2Wb4cf8Aqa6JXoXxh%2BLfgP4D/C7XvjH8T9cTTtA8OabLfapduMlY0GdqjqzscKqjlmZVHJFee/t4f8kQ0P8A7LN8OP8A1NdErg/2h7YftXfts%2BDv2S5P3/gz4c2Nv4%2B%2BJUA5ivrzzmj0XTpexXzYp7x42BDC2iz1rpwtGNar7%2BkUm5ei3t5vRLzfkVFXepe/Y4%2BC3jz4i%2BNLj9vT9qPQXtvHXiayMPgrwrd/Mvgbw%2B53RWaKeBeTLtkuZcBizCIbVQg/SlFFTiK8sRU5notklsktkvJfjq3q2KTcmFFFFYCCiivnH/goV%2B0B8UPCGmeE/wBlX9mPUYrb4t/GPUZtL8MalJF5ieG9OhQPqWuyp0ZbWFhsUn555YVw2SK1o0pV6ihHr9yW7b8ktTSlSlWqKC/4ZdW/JLU539oD9qD42/tFfGTVf2I/%2BCf2r21hq2iMsPxY%2BMdzai5sPA6uM/YrWM/JeauyHIiJ8uAENLydo9e/ZT/Y7%2BCH7HXgq48KfCXRLmW/1a5%2B2eKfFuuXRvNZ8R3xyXu7%2B7f57iViWPOFXcQiqvFaX7L/AOzR8Lf2Rvgro/wM%2BEemSxaZpaM9ze3kvm3eqXkh33F9dSnma4mkLO7nqTgYAAHoFbVq8eX2VHSH4yfd/otl5u7Nq1ePL7KlpD8Zeb/RbLzd2FFFFchyhRRRQAUUUUAFFFFABRRUd7e2enWcuoahdxQW8ETSTzzSBUjRRlmZjwAACST0o3BtJElFfO3h7/gq5%2BwL4j%2BIVx8Nrb9oTTba8hu3t47/AFC2mg0%2BdkDbmS8dBBs%2BUgOzhX42Ftwz7VafFb4XX%2BrWOg2HxJ0Ce%2B1O2S402yh1iBpbuFwWSSJA2ZEYKSGUEEAkdK7MRl2YYRpVqMo3V1eLWnfb/hutjiw%2BZZdjE3QrQlZ2dpRevbf/AIfpc36KKK4ztCiiigAooooAKKKKACiiigAooooA%2BeP2sP2C9O%2BL/jKD9pX9nfxs/wAMvjhott5ej%2BPtLtw0WqwrgjTtXthhdQsm2gbX/eRYDRspGDb/AGNP20L/AOO%2Bq658BPjz4GTwH8avA8UZ8Z%2BCWuTJBc27HbFq2mStg3WnzEfK4%2BaJj5cgDAFvfK%2Bef2%2Bv2UfFvxl0DR/j7%2Bzne2%2BjfG74YSSal8Otbk%2BWO/BH%2BkaLeHI8yyvEBicEjY5SRSChz20qsa8VRrP/AAy/l8n/AHe6%2BzuuqfZSqxrRVKq/SX8vk/7vl03XVP6Gorzb9kT9pjwj%2B19%2Bzx4b%2BP3g/T7jT01q1ZdT0W9GLnSNQhdobuxnBAIlgnjkibIGdmRwRXpNck4TpzcJKzWjOWcJU5uMlZrQKKKKkkK%2BR/Fdh/w7W%2BPq/E3w8v2f4EfE7X44PGWlrxb%2BCfENy4SLVIh0isrqQrHOvCxyskgIDMtfXFYPxQ%2BGngz4yfDnXPhR8RdFj1HQvEWlzafqtlKOJYJUKMAf4WwchhyCARyBXVha6ozcZq8JaSXl3Xmt0%2B%2BmzZUXZ67Hm/7UH/Jbv2cf%2ByzX3/qFeKK9mr5fn%2BGnj74N2v7Jfwp%2BJnxGHi3V/D3xUvbCTxEbQwvewxeDPFSwNIpZiZRCI1d8/O6s2BuwPqCsKkYwm4xd0nv38/mJ6MKKKKgQUUUUAFFFFABRRRQByHgX9oP4B/FDxlrPw6%2BGnxv8IeIvEPh12TxBoWheJbW7vNMZXMbLcQRSM8JDgqQ4GGBHWrFr8bfgzffFO5%2BBdl8XPDE3jezsBe3ng6LX7dtVgtSFIne0D%2BcsZDp85Xb8y88ivmv4a/FfTPix%2B2/q3xT8WfCT4i%2BEtJ%2BFmk614X8C6bcfBrxDD/bX2q8szqOrNdCw%2BzvBJLaQJawRSMzxrNcuDvjEPM%2BDvh/8QYv2pPD3w3l%2BFHiiHXtB/ad8SePda8Zy%2BGrpNKm8O3mhanb20iamY/s08hW9sNP%2ByrIZk%2BzMxjEcKvQB73%2B3h/yRDQ/%2ByzfDj/1NdErkP%2BCd0X/CbeIfjn%2B0Vfjzbvxl8adVsLS6/vaZo4TSrVB/sg207j3lNXv%2BChem/Fefwf4M1Hw5408PWvhaH4w/D0a9o174YnuNQvHPjPRvLa3vFvY47YK20sHtpiwBAKZBFf8A4JYzRxfsv6j4de2SG80X4peMrDUokLHbcJ4gvmbO4k7iHVjz34AGBXbR0wNZrq4L5Xk/zSLXwP5H0fRRRXEQFFFFABXyX%2ByLZt8df%2BCiX7Q/7U2ssLi28EX2n/CnwRvHNnDaW0Oo6sV/663t7EpbqRaKM8YH1pXyp/wS3ZbDUP2kvCl38t/p37UviqW7jbhtl0lneQOR6GGePB/2fauzD%2B7hq0lvaK%2BTlr%2BSR1UPdw9WS3sl8nLX8kj6rooorjOUKKKKACiiigAooooAyPiB4Rj%2BIHgTWvAkuvalpS6zpVxYtqej3Pk3doJY2TzoZMHZIu7crYOCAcGvzY%2BMXiX9qb/glD8SfD83hL9ryT4v6De3CadN8NfEOrFtSt/Mif7Mq25kmlSP5BtliCAsAhXDDP6fV8YftmfsoePfh7%2B1jpX/AAUm%2BCvw30zxlc%2BG9LH/AAkngkNLb3t4Y4pIvttvIm4TTrAyoI2Q8QrtDsQB9RwxjKNPEzw2I5XTmn7slG0p2tGPM1eF72Uk1Z773PlOK8FXq4aGJw3MqsGvfi5XhC95S5Iu1S1ruLi7rbaxu6J8Vv8AgrJ8bprTV/BX7PngD4V6WumI8qfELVptQuLy4OCdqWm14FAP3JEDDBycnAn8UeD/APgrV4k8OX/hXxRH%2Bzd4g0rVLOS01LS7611pI7iCRSjo2OCCCQQexNfM/wC05/wWw%2BKni3WdD%2BGfwI8FX3ws1Ndft5NV1vxysRUwYKm3mgaBzFEXZWaVSHCxYGAzYp/8FCP2lv8AgpQlz4B8Yp8B/Gvwz1nwvHeLrGr%2BFNUfUdG1R5vI8s/uN8IUeXIRHMXOJMZO3NfQ0MizR1qMZUMPR578qlrJcuqd3U5nd2s4ybWjaSsfN18/ypUK0oYjE1%2BTlUnF2i%2BbRqypcsbK91KMU9Um3c%2Baf2hrOHwp4wK/C79je98B%2BLPBNvPD8TbWSyk1jR4mc%2BXFPHDfJMIYXTLK8hKt5i7CQNzeSWHw6%2BIGl%2BBNP%2BORln0vSn8RR6bpesOJ0JuY08wyROiHIiCrkqdwJXaDg47LSP2uP2vLP4u%2BIP2gtM%2BMuvWfiq8aF/EN9DEVjv2jAhjhuLdI/s7qqA4jlQIFjYAZwDmfHj9pn9on9r7W/Dlv8T/FmpeJNT062XTtJtIogRLJJOTmO3hVV859yISq7n8uMc7VA/UMPTx%2BGjGElFxSXM%2BaUpbNtJS3V37rctI6NM/Ka88vxlSUoykpNvkTjCMd7KTcNnZLmSjrPVNH3j4Q/ap8ef8ABP8A/Zs8H%2BGdL/au8NfE7xd8SNY07UrNfGN1efYfDWmXMGTK5kcXfkuVQhnWJVyz%2BUDu339W/wCC93iL4Y%2BL7/4ffFj9mTS7y/0ycxT6j4T8eR3FpPwCrxEQOrowIIIkPBwQCCBmfsC/8EcdD%2BKP7Os/iz9tvwx4k03xRqE13beF9NfVJIJNG0wqv2eR4CMxziZp5fLf5cOu6PJYVW%2BKVv8AtB/8E1v2c/E/hDS/2UPBsuo6TFbWuifHjQ/DliVuLGSeONftsMqlzc8hPm3qWYEqwBd/zXC1OFs6qNQpe2rSk781qDd5NJxs7OMVFLlUeZpqaTufrGa4Li/hio6VWuqVKnFa028TFWpxk4t2%2BJubvJy5YyjKm2uS79K0X/gthrPifwRrXxF8Mfshy32keHbRLrW54viTpxezhZwiu8QUyAFyFHy8sQBya9o/Yg/4KNfDv9tKy1Oa38KSeEbizuIYdPtNZ1q2aXUyyEyGBAwkYRsNpO3ady4Odyp83f8ABJ3%2Bwvg7rE/7OP7Q3wu0y6174w2l5rWmeLhrOm61ZeI7eNB59iZLffwgWVyjySKW8w4XcA31R4w/4Jo/sJeNdJm0jUf2ZfDFmsykC40az%2BwzRnHDK8BQgjr6eoNeTnVHhrBV6mFdCUNnCpGXMnHq%2BWUrP3k1uno7pSO/I6/FGOw9PFrERno1OnOPK1LouaMbr3XF7NO6s3E90orI%2BH/grS/hv4H0jwBol5fXFno2nQ2dtPqd49xcSJGgUNJI5y7EDk/kAOK16%2BIkoqTUXdfd%2BB95BycE5Kz6rf8AHqFFFFSUFFFFABRRRQAUUUUAfJv7MFqvwA/4KZfHX9mvTx5WgfEDQtK%2BK3h6yj/1dteXEkum6xj3kuLW1nI/vXDH%2BKvrKvlSdl1T/gt7afYTu/sT9le5XUyv8JvfElubcN7kWNyQPrX1XXZjNZwk93CLfrZr8kjqxesoSe7jFv7mvySCiiiuM5QooooA8Z/ag/5Lf%2Bzj/wBlmvv/AFCvFFezV4z%2B1B/yW/8AZx/7LNff%2BoV4or2agAooooAKKKKACiiigAooooAKKKKAPGf28P8AkiGh/wDZZvhx/wCprolcZ%2BydMPg3%2B2f8dv2ZNR/dQ6/rFt8S/CYfrc2uoxJbaht9o7%2B1Ykf9PSn%2BKuz/AG8P%2BSIaH/2Wb4cf%2Bprolcv%2B374E8aeEj4U/be%2BDegz6l4r%2BENzPcarotmv73X/DVwqrqdgo/jlCIlzCDnEtuAAS9duCanKVCTtzqy/xJ3j%2BOn/bxcNdO59HUVifDb4jeC/i94A0f4o/DnxBBquha/p0V9pWoWzZSeCRQyt6g4OCDyCCCAQRW3XHKMoycWrNEbBRRRSAK%2BRb6/H7H/8AwVTl1fWm%2Bz%2BCP2n9FtLSG%2Bk4is/GukQNHHAx4VDe6aFCZ5eTT9oyWFfXVebftZ/sw%2BAv2v8A4Gav8EPH1zdWSXhiutG13TZPLvdD1KBxLaahayDmOeGVVdSDzgqcqzA9OGqwpzcZ/DJWf%2BfyaT%2B9dTow9SEJuM/hkrP/AD%2BTSf39z0mivmn9ib9rnx3r/im%2B/Yv/AGxYLXRvjl4NshJdNEnlWXjbS1OyPXtMzgPHJgedCvzW8u5GVRtr6WrOtRnQqcsv%2BA10a7p/1rdLOrSnRnyy/wCA10a8n/XVBRRRWRmFFFFABRRRQAUUUUAYvjL4bfDr4ixQQfEHwDouupayCS2TWdKhuhE4IIZRIrbSCAcjuBW1XE/tEfH3wB%2BzD8INX%2BNnxOe8GjaMsX2hNPtvOmkeSVYo0RcgZZ3UZJAGckgV4V4Z/bA/bx%2BM2g2Xj74H/sGWMXhjVLWO60bU/FfxCtYZr63kUNHKIY1JjBUg4JOQRgmvSw%2BXY7GYf2isqadk5SUY33aXM97WbSXqeXiczwGCxPsnd1Gk2oQcpW2TfKtr3Sbfkj6rr5I/4KF/Gn9krW7XVP2ddf8Aga3xa%2BI50x5NM8H6DoEt3d2MrxhopJriDEloh3IzFHEmxs4wQTop%2Bzt/wUA/aGJvv2if2p4vhxo82f8AikPhFB5dyqHoJNSmzIHA4OwMhJyMdK9f/Zx/ZT%2BDf7LGhahpHwq0e8FxrFytzrms6tqEl3e6lMowHmlkJJwCcKoVQSSBkkntw8cBlNVVp1faVI7RpuSV7/aqaaeUFrtzJHFiJZhnFJ0YUfZ05aOVRRk7W%2BzS1185vTflb0PFv%2BCdv7Of7dv7PGpDw/8AHv4yaTrngGXw152m6As8s95pGpySRN5AlmjMhhjj85MGZlztwo5NfUniDw74f8WaNceHPFWhWep6fdpsurDULVJoZlzna6OCrDIHBFXKK87H5hWzDFvEzSjJ/wAqUVp1suvd7u19z0svy6hl2DWGpuUor%2BduTs%2Bl307LZXtsfMH7Fv8AwS7%2BE/7IHxJ8S/Fh9at/FGtarqLy%2BHrq40CK1Ph%2B2bzQ0MARmAdllKM6hAVVVVEG4H6fooqcdj8ZmWIdfEzcpWSu%2ByVkuy%2BXm922VgMvwWWYdUMLBQhduy7t3bb3fz6WWySCiiiuM7QooooAKKKKACiiigAqDVdU0zQ9Mudb1rUILSzs4Hnu7u5lCRwxIpZndjwqgAkk8ACp6%2BK/j9431j/gp98VtT/Ye%2BA%2BsXMfwe8N6kLf9oD4iadMUi1RkIZvCmnzL/rJJOBeSocQxExbt8hWt8PQdaWrtFat9l/m9kur%2Bdt6FF1pau0Vq32X%2BfRLq/nbof8AgmVDqXx28T/FT/go1rtjNBb/ABk1%2B3tfh7BdRFHj8IaUkltp021hujN1I93eFe63EZ6Yr6zqroWhaL4X0Sz8NeHNKt7DTtOtI7WwsbSERxW8MahEjRV4VVUAADgAAVapYir7es5pWWyXZLRL7l99xV6vtqrklZdF2S0S%2B5fmFFFFYmIUUV5F%2B2n%2B0nc/s1/B1tU8H6Ous%2BOfEt9HoXw58NKcvqutXGVgQjtFHzNKxICxROSRxWlGlOvVVOC1f9fd1b6JNjSbdkVv2oP%2BS3/s4/8AZZr7/wBQrxRXs1fL0/wo8SfA%2B1/ZL%2BF/jP4g6l4r1vS/ipejW/EWrXkk81/eyeDPFUs8gaQllj813CJ0SMIgwFFfUNKpGMZtRd0nv38/mD0YUUUVAgooooAKKKKACiiigAorxf8AY5%2BLvxw%2BJV18UvB3x%2BvfCl3rPw/%2BJjeHra%2B8H6Lc2FrcWraNpWpIWiubq5cyK2oPGXDhXEasETJFcl%2BxP%2B1P8XfjR8QvEfgj49%2BJtE0fXbW51iXSfh%2BfhPrfh/UE0211aS0hv477UbuSHV4Gh%2Bys8tpCsavdR5Zd6qQDr/28P%2BSIaH/2Wb4cf%2BprolezV88f8FC/i58KPDXg/wAGfCjxH8TvD2n%2BKfEHxh%2BHsug%2BGr3WoItQ1JI/GejNI1vbs4kmCqrFiikAKScYNfQ9AHyFfyXn/BLn4p3mvC2lf9nLxvrLXGoCGMsvw21m4k%2BebaPuaVcyNlsfLbzOThUfn64sr2z1Kzh1HTruK4t7iJZIJ4JA6SIwyrKw4IIIII4INR61ouj%2BJNHuvD3iHSra/sL62e3vbK8gWWG4idSrxujAhlZSQQRgg4r5Obwv8Y/%2BCY93Jf8Awy0DWfH/AOz40rSXfhOzD3et/D5SSWksVJL32mrklrfJlgHzJvUMtej7uYLV2q/hP59J%2Buku6l8V/H6/n/wT66ornfhT8W/hp8cvAWn/ABQ%2BEPjbTvEPh/VYfMsdU0y4Ekcg7g91YHhkYBlIIYAgiuirglGUJOMlZojYKKKKkDyT9rn9jb4XftgeEdP03xdd6joPibw3eHUPA3j7w3cfZ9Y8M3%2BMC4tZgOAQAJImzHKvyupwCPHPA/7dPxY/ZI8S2PwJ/wCCpFhY6QLm4Wz8K/HzRrUxeFvEpJxGl91Gi3zD70Up8h2DmKTGFr6%2BrO8W%2BEfCnj7wzfeC/HXhnT9Z0fU7ZrfUtK1WzS4trqJhho5I5AVdT3BBBrqpYhKHsqq5o9O6/wAL/NPR%2BT1OmnXSh7OquaP4r0f5p6Pyepdtbq1vrWO9srmOaGaMPDNE4ZXUjIYEcEEcgipK%2BQpP2Cv2hf2QrmTxB/wTI%2BNtvpvh8SGWf4F/E2a4vvDLZOWXTrpS13o5OWIRDLBuYfugBWn4S/4Kr/DXwb4htPhr%2B3f8LfEH7Pfiu6lEFu/jnZN4d1GX/py12DNnKOnErQyc8oKp4NzXNQfOuy%2BJesd/muZFPCuavQfOu32l6x3%2Bauj6qoqvpOr6Tr%2BmW%2Bt6Fqdve2V1Estrd2k6yRTIRkMjqSGUjkEHBqxXHscmwV89ftc/8FJfgr%2Bxn8QNK%2BHPxJ8D%2BM9TvNU0ltSW48O6RFNBDbh3RmZpZo8lShLBc7VwTjIB%2Bg5pobeF7i4lWONFLO7tgKBySSegr4p/4KXftBfsO/FP4O3/AIIsviHpPin4l6c5Hw5g8G3rXWp2esuypD5UtqT5f7zYXQsMhOhYLXtZDg6ONzGFOtSlUpvR8t1a%2B0m0nZLd3a0vroeHxDja2ByydShWhTqLVc9nzW1cUm1dtaKyettNT22P/go5%2BwtL4Qm8bp%2B1L4P%2BxwW/nPA2qqt4VxnC2pxO7f7CoW9q4LSv2yf2yvjtb/8ACQfss/sU7fDE7MdM8V/EXxGmnLfR5wsqWajzgjfeVskEEdK6/R/2EP2ePiZ8G/CelftDfADwvqHie20XTX8QanHpUMN3NfxRRmYvcW4VnVpVbcu4o4JBBBr3np0q6lfJcJdUKTqSu1%2B8acUk7JxUHHmvveTVlbR30ilQzzGWeIrKnCyf7tNSbau1J1FLlttaKd3fVW1%2BSfHX7NP/AAUP/av8L3nw8/aS%2BNfw68G%2BEdVi8vVNC8CeHJNRuLqLIIjaa/4iYEAiSPkMoIr6R%2BDvwo8IfAz4X6H8IvAVrJDpHh/T0tLJZ5d8jKvV3buzMSxPAyxwAOK6WiuLFZlicXRVFqMaad1GMVGN7Wv1bdtLtvQ7sJleGwdZ1k5SqNWcpycpWve2tklfWyS1CiiivPPRCiiigAooooAKKKKACiiigAoorm/it8Y/hL8CfB1x8QvjT8S9C8J6Faj9/q3iHVYrO3U4zt3ysoLHHCjk9gacYyk7RV2NRlJ2SuzpK534rfFz4YfAvwFqPxS%2BMnj7SfDPh3SoTLqGs61fJb28K9gWcgFieAoyWJAAJIFfM83/AAUS%2BNX7T5Oh/wDBND9mS/8AFtjMdi/F74lQ3Gg%2BEYB/z1gEiC91UAgjFvEqHg%2Bbjmtj4Yf8E09J17x7p3x7/bv%2BLF78cfH%2BmzfaNGj1yxS18NeG5ex0zR0JhjdeB9omMs52ht6muz6rGjriJcv91ay%2B7aP/AG8/%2B3Tq%2BrRpa13y%2BS1l92y/7efyONvvGn7T3/BVBT4f%2BESeJPg5%2Bz1dcal48vLd7HxV48tj1i0uBwH0uxkXreSgTyKy%2BWiAs1fV3wc%2BDXwu/Z8%2BGej/AAc%2BC/giw8OeGdBtBbaVpGmxbIoUBJJ7l3ZiWZ2JZ2ZmYliSemorKtiHUioRXLBbL9W%2Br836JJGdWu6kVCK5Yrp%2BrfV%2Bf3JIKKKK5zAKKK8y/aY/a0%2BEn7LHh%2BzvPHd5d6hrmtTG28K%2BDNAtjd6xr912gtLZfmc5xuc4RMgsyirp0qlaahBXb6DSbdkdD8cPjh8MP2cvhhqvxg%2BMHimHSNC0iHfc3MuWeRicJDEg%2BaWV2IVI1BZmIAHNeK/ss/CD4nfGn4sn9vL9qfwxNo%2BuTWEll8LPAF6QzeDdHlxvlmHQaldAKZmHMaBYQeGFN%2BDv7Mnxa%2BOvxM0v9qz9u62tF1bSJjc/Dz4UWN0LjS/BxI%2BW5ncfLfantODPjy4iSIh0YfTFds508JTdKm7zekpLZL%2BWL6/3pddlpdyptRVlueM/tQf8lv8A2cf%2ByzX3/qFeKK9mrxn9qD/kt/7OP/ZZr7/1CvFFezV55AUUUUAFFFFABRRRQAUUUUAeL/An9jzWPgT408X%2BNbT9rL4leI5PHHiuHxBr1j4htPDoge7S1t7MhPsmkQOkb29pbRMA%2BcQhlKuzs2p8P/2WoPCfxoX48%2BNvjf418da9ZaHfaN4d/wCEqOmRwaJY3lxbXF1Dbx6fZWu8yPZWYMlwZpAtuoDjc%2B/1SigDxn9vD/kiGh/9lm%2BHH/qa6JXs1eM/t4f8kQ0P/ss3w4/9TXRK1PDP7YHwa1r406j%2Bzz4ivb/wt4wtLuSPTdI8V2RsjrkKnAudPkY%2BXdxNzgIxcYO5FxWkKVSqm4K9tXbou/8AXzsTKcY2u7XPUqKKKzKPnH4ofsOeIfB3j3UP2gf2E/H9r8OPG2ozfaPEPh66tWm8MeLJO5v7NCDDM3T7Xb7ZRliwkzUvwv8A%2BCgnhy38Z2nwQ/a/8B3Xwd%2BIN0/lWFl4gulk0bXnHG7TNTAENxnK/uXMcwLBTGSM19E1gfEz4V/Db4z%2BDbv4efFrwJpXiPQ79Nt3pWs2KXEEnodrggMOoYYIPIINd0cXCrFQxK5rbSXxL57SXlL5SRfMnpI36K%2BXV/ZA/aa/Zd/0z9hH49C88OQ8r8I/ixcz6hpkSD/lnYaiC15YAAYVHM8eTyoAq9oX/BSnwP4H1a38FftrfCzxB8DtdnlEMN54sVbjw9eSHtbazb5tmGOcTGFxnlRQ8DKor4eXtF2Wkl6xev8A4DzIOS/w6n0pRVXRNc0TxNpNvr/hvWLXULC7iElre2NwssMyHoyOpKsD6g4q1XC007MgKz/FPhTwt458P3fhLxt4a0/WNKv4TFfaZqtmlxb3EZ6pJHICrr7EEVoUU02ndAm07o%2BbvBH/AAS6/Z7%2BCfxT034ofsueKfGvwohttXS%2B1jwZ4H8TyReG9bAfLw3GlziW2jVhlc26wuM5DA1zP/BUf9tvw/8ABHwZpnwB%2BH2u6nffELxtr%2Bm6bHo/hS6EeoWdjPcIJpjMfltC6ZiSRyCDLuUfKSPreviP4h/B7w7%2Bx/8AtcSeIfF/hrQfGXwy/aO8WLo/iax8UaZBcXGl6tOzSwp5kqkT2buG/cvwm0YGVG73MpVPHYpvEtzlCLcY7c7WrTla%2BiTkk7uVuVNHBm%2BZ4zDeyqN3jzJTm7Nwi9E7P4vecVeTajo2mtF4HB8JP%2BCjH7XH7D3xCOh%2BN5tF8D2OtalN4H8CW%2Bo3HibWNYhgAMdkdSuZx9qgWbciEysrNGQflRRX0T%2BzX400H4H/AAm8JeF/g38PfAfjLx14h1270PT7a08GN4HlsJbG1kmvv7YLG9lgkj8tVYrGzMbiHEbK3mV9L%2BLP2fvAniHwtceFvD95rPhNJktEhu/BmsS6bLaLbArCsIiIREVSVKbdjLwysAMeV%2BLP2B7zR9L0K4/Z6%2BMk/hvX9MOv/wBp%2BIfE%2BltrU%2BqSaysX229cCeAJeh4Y3ik%2BaGMbk8hkIVda2cfXKPsJWhC7ajFNLVfaad5bLV3fojtwuX5XTxE8RUXNVk178/edkrJXtaKvq1BRu279LXdG/wCCi/wWufCnhPxBr2geIbWfxBolnqeu29lpb3cXhWC5uHtY5NRmTCwRm4iniD4P%2BokYhVUke/18deLf2DPiPYa14m%2BB3w80XTW%2BHPxBtvC9prvim815l1DTdL0nYtzpv2YQ4m%2B0qkxEocAPf3BZQAufpT47aL8dNd%2BG93p37OPjvw94c8VmeJ7HU/FOgy6lZKgcGRHginhc7lyoYONpOcHGK8mvTw3NH2T37vZdL6aduu1%2Bp216eHvH2b37vb17duu1zsaK%2BVftv/Bbbw5802gfsveLY0%2B99n1HxDocsg9laO9UH6tipLX9o7/gq1pMhtvEn/BMzwXqYSN2N34b%2BP8ADiRgpIUR3WmxEZIAGWxzzgCl9Tm/hnB/9vL9bC%2BqSe04v/t5frY%2BpqK%2BVf8AhtH/AIKF2J/4nP8AwR48Zso6vpXxe8LXA/APeRt%2BlL/w3v8AtgQjF3/wSD%2BMSt3EPizwvIPzGp0fUcR05f8AwKH/AMkH1Ov5f%2BBR/wDkj6por5W/4bx/bMuPl07/AIJAfFxm7C58aeFoR%2BZ1I0n/AA2L/wAFHr7/AJBX/BH3xBCD91tZ%2BNfhqAfj5M0xH5UfUa/Xl/8AA4f/ACQfU6/W3/gUf/kj6qor5VPx3/4K8%2BJ/3Ph//gnr8LPDJPCz%2BKfjxLdAe5Sy0lvyDGj%2Byf8Agtn4o/cXvjT9mPwbE/35dO0TxBrs0Y/2TLNZoT9Vo%2BpyXxTgv%2B3k/wAkw%2BqNfFOK/wC3k/yTPqqivlP/AIYx/wCChfjP9z8V/wDgrT4htbWT/X2fw1%2BFGi6KQPRJ7tb2Vceu73xQf%2BCPv7N3i3n9ob4ufGn4tj/n3%2BIfxe1SW1z/ANelnJbW%2BD/d8vb7U/YYWPxVb/4Yyf58qD2OGj8VX7ot/nyo9Q%2BOf7fP7E/7NEc3/C9/2qfAnhm4g%2B/p2o%2BJLf7aT3C2ysZnPsqGvK/%2BHqNv8UR9l/Yx/Yv%2BMnxbabiy11PCh8N6DKfU6hrRtgV9445PYHIz678Ef2Hf2OP2bPKk%2BA37LvgPwpcRD5b/AEbwvbQ3Te7XATzXPuzE16nRz4Gn8MHL/E7L7o6/%2BTD58HD4YOXq7L7o6/ifJp8E/wDBXj9oc58a/Fv4b/s%2BaDP8x07wLpz%2BKvEIQ8GN76%2BSGyhbH8UdtLjqD6dD8K/%2BCVH7JHgXxjb/ABW%2BJmi638XPHNtzF43%2BMetyeIL2E5yDBHP/AKNaYPT7PDHjoOgr6RopSxte3LC0F2irfe9385CeLrW5YWiv7qt973fzYiqqqFUAADAA7UtFFchyhRXnHi79rP4AeFNB8Y6vB8SdL1m58CafNd%2BJNG0LUIbm9thEBuQxhxtcFlU7ioVnXeVzmvOvGH7U/wARfGes%2BGfhF4UsJPhl4s1jxcdH10%2BKdMg1NtMzpt3fWwjEFwIZftItJESQOygxyJt3lK6aeDxFTpZeenS/rt2T6dylFs%2BjKpeI/Enh3wfoV34o8W69ZaXplhA019qOo3SQQW8Y6u8jkKijuSQK5D9m/wCLWsfGP4ZDxB4r0a303X9M1jUNF8R6dauWigv7K7ltZTGW58tzEJY8kkxyocnOa8%2B8S/8ABP7wB8YPivefE/8Aaj%2BIPiD4m2ceqtdeF/A/iGWOLw9oce7MaiwgVY7uRQdvnXPmkjHAPNEKNKNWUa8uW3ZXb8lsvm3a3fYElfU5jUf20/jB%2B1PeTeDP%2BCdHgGHUtL8xoNQ%2BNfjG0lh8OWWDtc2EXyzavMuGA8vbAGC7pSDiu%2B/Zu/Yp%2BH/wF8QXnxX8TeItT8e/E3WYBHr/AMSfFZWS/nTqbe3VR5djagk7beEKoGNxcgGvYbKys9Ns4tO060it7eCNY4IIIwiRoowFVRwAAMADpUtXUxdoOnRjyRe/Vv8AxS/RWj5MHLSy0CiimXNzbWVvJeXlwkUMSF5ZZXCqigZJJPAAHeuMk8c/ag/5Lf8As4/9lmvv/UK8UV7NXhXx48VeGPG/xQ/Zo8V%2BDPEVjq2l3vxjv3s9R0y7SeCdf%2BEL8UjckiEqwyCMg9q91ptNOzBNMKKKKQBRRRQAUUUUAFFFFABRXM/Cz40/Bz456Jd%2BJvgn8WfDPjHTbDUpNOvtQ8La9b6hBb3kYVpLeSSB3VJVDoWjJDAOpI5FJ4O%2BNvwZ%2BIni/Xfh78P/AIueGNd1/wALTiHxNoej6/b3V5pEhLAJdQxuz27EqwAkCnKn0NAHAft4f8kQ0P8A7LN8OP8A1NdErufjN8CPhB%2B0L4Pk8B/Gf4f6d4g0x23xw3sXz28naWGRSHhkHaSNlYdjXDft4f8AJEND/wCyzfDj/wBTXRK9mqoTnTkpRdmuqE0pKzWh82L8L/21P2VP3vwM8af8Li8Fw/d8EePNTFvr1lH/AHLPVSNlyB2ju1zhQPOrsPg3%2B3N8CPi34nHwz1O/1DwV45UDz/AfjyxOmaoCf%2BeSSHZdKcZDwPIpHOa9jrkvjF8Bvgz%2B0F4YPg741fDTSPEungloodUs1doGP8cUn34X/wBtCrD1rs%2Bs0a/8eOv80bJ/NfC//JX5mPs5w/hvTs9vk91%2BKOtor5xX9lb9pz4C/v8A9kT9pue%2B0mL/AFXw/wDi75urWKr0EdvqCEXtsoHChjOo/u44p4/b11r4TH7D%2B2b%2Bzd4r%2BHKx8SeKtMhOveHmHQObyzUyW4PXE8MeB1PBNL6lKprQkp%2BS0l/4C9fuch%2B2Uf4i5fy%2B9frY%2Bi6q63oeieJdJuNA8R6Pa6hYXcRjurK9t1lhmQ9VdGBVgfQjFY/wz%2BL3wq%2BM/h9fFfwk%2BI%2BieJdNbH%2Bm6HqcV1GpP8LGNjtb/ZOCO4roq5JRnTlZppr5P9DVNNXR8261/wAEyfhD4X1e48X/ALJnxB8W/A/Wp5DNIPh5qYTSLmXsZ9JuFkspFHosaH/aquPFP/BUX4EHyfFHw38CfHXRYflGo%2BFL8%2BGddKjq72l20lnK2P4Y54s%2Bg7/TVFdax9aStWSqL%2B8rv/wJWl%2BLNOd9dT5v0n/gqZ%2BzBpepQ%2BHP2gLfxb8HNXnfZHY/FfwvPpULnuUvcPZuvus5z%2BdeDftYWn7cfjj9oE/FH9nb4zeL/HXwt1zTidEt/g54rtLcaY8SRbkmcq8Uu4mRlbJZ8gZXaFr9AdV0jSte06bR9c0y3vbS4QpcWt3CskcqnqGVgQw9jXwL%2B1b4L/4Ji%2BF/G154Y/Z%2B%2BCV5qPxlmjddP0z4A393pF7BcjgPdTaZJHDCqsQXMgdlBLFD1r28hrU441yw9BybTTTSnFJ9bvlcLfzX2ujweIaOXYjAqOJryopNNOL1bV/dSWs7/wAqT1sx37OOja/%2B0R4hv/hj4d/4KKfHXwn4u0yDzfEPgXx1pkEOrQQ5UGSMsuNuWX50JIDKSF3CvbfDn/BLP9nUa/aeMPjH4o8d/E7WLG4W4tb7x/4wuLsRSqcgrHGY0wD0VgwxxzXi3wx/4JX/ALX%2Bn6/4R/ab8Rfttzr8WNE0wRKvifRJtatbaJlkH2J5ftkUkygTOGYkgszEBuCfZ/8AhP8A/gq18OefFP7PHwi%2BJVuOPN8FeNrzQboj1MGoQTRZ9vPx7iuzNMdU9vy5fiopW963LD3tU1Gfs4OUezbTto76N%2BfkuR0q2F58dRTkn7vPKTbjo4uUHOcIy7pOVn2d0vpWivmv/h4P438I/wCj/Gv/AIJ8/HTw5Mn/AB8XOieGrbxFZoO5Eul3MzkD18scVNYf8Faf%2BCf8l2mmeJ/j2vhW8c7Ws/G/h3UdEdG/un7dbxLx7Ej3r5j%2Bzsd9mm3/AIbS/wDSXI%2Bu5J9j6Oorz3wZ%2B1v%2Byp8Rgh%2BH/wC0x8P9cL/dXSfGNlcE%2B2I5Sc%2B1d/b3NveQLc2lwksbjKSRuGVh6gjrXLOnUpu04teqa/NIlprcfRRRUCCiiigAooooAKKKKACiqmsa9ofh20OoeINatLGBes95crEg/FiBXmXjb9vH9iX4chx43/a4%2BG%2BnSJ963n8aWXnfhGJS5/AVpTo1qrtTi36Jv8kxpN7HrFFfNjf8FZf2L9YJt/hd4m8WeP7o/wCrtfAHw61nVTJ/uyQ2piP/AH3SH9uH9ozxr8vwR/4JpfFS/H/P1471DS/DMH1xPcyT4/7Y7v8AZrp/s7Gr4ocv%2BJqP/pTX5Fckux9KUV81b/8AgrP8Sfu2/wAEfhZZT93fUvFGo24%2BgFlblv8AvoH2pD%2BwN8WfiF%2B8/aR/4KDfFnxMrcS6V4QubXwpp8i90ZNOjFwy9ubgnHUmj6pSh/ErRXpeT/BJfiHKluz6UEsbSNEsillALKDyM9M/lXi3wr8V/ED4XfHvxf8AB/40fFi88Q2N9o0HinwprWs2lpaiC2Ehtb2yBgiijEcD/ZHBYFyLz5mY11H7Pn7KnwD/AGWNJ1HR/gV8P00VNYuEn1e4k1C4u7m%2BlRSqyTT3MkksrAEjLMetaHiT9nj4JeM/inp3xr8Z/DbTdY8T6NaG20XVdWiNydNQkljbJKWS3ds/NJGquwADMQABEZ4eEpx1cWtHZXvpbq7a3vrsJOKufNFt8EvE3ifxT4S%2BDlx8O9Uv9Os/EfiGSXxxZ7G0vUfCWrrdTyqblCQLlrj7E/l7Tuki342ksPSPAf7HPi7W59Tn/aT8a6brkp8P6RpGj3vhuC4sbpJNOeSSLVmlMhaK9MkgP7s7E8sYzvYV9BdOlFa1MxryVo6fnve9%2Bl%2By0G5s534XfC/wt8IPCEXgzwkb6S3W4mubi71TUZbu6u7iaRpJZ5ppWZ5Hd2ZiScDOAAAAOiorzz41/tY/s4fs6xqPjL8YtE0S6lx9n0qS582/uM9BFaRBp5SfREPUVyxjWxFS0U5SfbV/gZynGKvJ2PQ6jurq2sbaS9vbiOGGJC8ssrhVRQMliTwAB3r53b9qL9qv44D7L%2Byt%2Byjd6Rp0vEfjf4xyPpFoB2eLTo917cKRyN4gB9R1p1t%2BwPc/Fa5j1v8AbZ%2BOuvfFGRXEi%2BFYx/ZHhqBgcqBp9s2bjaeN1zJLkdQK6PqkaWteaj5L3pfcnZfOXyMfbOX8ON/PZfjq/kiz4p/4KA%2BD/EevXPw8/ZE8Aap8Y/E1tIYrpvDEqxaJp0n/AE96tJ/o8ff5YzLJxjZms%2BD9jj4sftE3Eevft6fFePWtO3iSH4VeCXmsvDsJByBdSEi41MggH96UiyD%2B6wa%2BgvDHhXwx4J0G28K%2BDPDlhpGmWUYjs9O0yzSCCBP7qRoAqj2Aq/T%2Btxo6YaPL/eesvv2j/wBuq/8AeD2Tn/Ed/LZf8H5/ceGfH7w54e8IfFL9mfwx4T0Kz0zTbH4wXsNlp%2Bn2yQwW8Y8E%2BKMIiIAqqPQACvc68Z/ag/5Lf%2Bzj/wBlmvv/AFCvFFezVxNtu7N9gooopAFFFFABRRRQAUUUUAfKv7C3xS8NQ/Fn47adD8L/AIi6FaeIPjLb33ht9b%2BD3iHSbW6sm8O6JYrNHJdWEUYjFxY3KE5AQRhmwjozcR%2Bwp8P/AIg6X8YfhT4Y1b4UeKND1D4T/DPxjoPxK17WfDV1ZWep6nf6zpc0LWt1LGsWprcvZ3d951u8qxhx5hSSYrX3DRQB88f8FC9N%2BK8/g/wZqPhzxp4etfC0Pxh%2BHo17Rr3wxPcaheOfGejeW1veLexx2wVtpYPbTFgCAUyCNrxyn7c/wy8Y6l4s%2BH8vhf4neF7u7eeHwjqAGi6tp0ZPENtdruguFUf891Rj0396n/bw/wCSIaH/ANlm%2BHH/AKmuiV7NWlKp7N7Jp9Gv%2BGa%2BTMa9H20UlJxa2adv80/Rpo8S8G/t8/ArU9fh8C/Fg6t8MfE8x2poHxGsDppmbp%2B4uWJtrgE8AxysT6DOK9rhmhuIVuLeVXjdQyOjZDA9CCOorN8Y%2BCPBnxD0Gbwr4%2B8JaZremXAxPp2r2MdzBJ/vJICp/KvFpf2CdD8ATPqX7KPxp8XfCufcXXSdKvf7R0RnPUtp15vjUH/pkYvYitrYSrs3B%2BfvL717y%2B5nNfMKG6VReXuy%2B53i/k4nvtBAIwRkHqK8BHxD/b6%2BEH7v4hfBLwz8UdLi66x8PdU/szUgg6s9hfMY3cjnEdx9B2q/4b/4KF/syX2rxeFviJ4l1H4da5KcDRfiVo82iy59FkuAIJM9tkjZ7dRQ8HXavBcy/uu/4LX8BrMcKnao3B9prl/F%2B6/lIsfEr/gn9%2Byt8SfEDeOYfhyfC3ig5KeLfAd/NompK5/jM1m0fmn/AK6Bx7cVzo%2BBv7enwhGfgr%2B1lpXjvTo%2BIdA%2BMPh8GcJ6DU9OEchb3kgk9819A6Vq2la7p8WraJqdveWs6boLm1mWSORfVWUkEfSrFVHG4mK5ZvmS6SXN%2Beq%2BTR0expP3o6ea0/LR/cfO4/bG%2BP8A8Nv3P7Rv7CvjWyiXhtd%2BG91D4nsmA6yGOHy7uNe%2BDASPfrWz%2B0N%2B25ofwQn8CaL4a%2BEPivxrrfxEtrq58P6DoVkI7vyIII5pHljmKvGQkq5UruG18gFcV1v7Uv7Rvg39lL4H618bfG1vLc2%2Blxqlrp9ucSXtzIwSKBTg4LMRlsHaoZsHFeT/ALPH7Ov7Q3xD%2BLVj%2B2N%2B1n43sLXxGnh25svCPgvw7ZRm28MwXRBZmnbd9ouNmFJIK5J5YYA9LC0MHOi8ZiaajTXMkuaS5520ilq0k2nJp2S03aR5OOxWK9ssFhJN1Xytvli1ThfWTvZNtJqKs23raybPP/A3h39tX/goV4j8ReHf2ktfj%2BFXgDw3rn2HUfBXgi9f%2B1dUZ7aK5S2vL3cyhVhuIfMEeAxZlKKRlfX/ANlfUP2cPhV4Y1nQfg38AL7wJ4S0R74Xfi69tbVLHUFsZXhnne6W4kmcK0cnzXAU4RuwrqPgn8Dvid8FLbXoJPi1aeKm13xBd6xc3WseHktbp55olUK8ls6xEBo4xkQghBtxwDXlXjH9mH4uS%2BHPH2uaV8LPCXh9PEGj2Nve%2BCvAupGWHXZk1AXF7eu0ttap9okt2lhRGX5mZt8uGBF1sbDFqWHUlClpyxjeMb6XbW8nvZzbtbWxdDL6eGqLENOdV3vKWsvRPaK8oKK16nv3gn42/Cr4h%2BFrrxr4U8a2kumWNybe%2BurkNbfZpRtO2RZgjRkh0I3Abg6kZBBPURSxTxLNDIro6hkdTkMD0IPcV8i%2BN7GSDx5pXxl/aI8EXej%2BCPEvjS81DWNA1TTftZza6YbTTEvYYBIpaXMsuDuVWhtkJ3bQPcv2SfDXirwP%2BzX4W0Xxzpb6ffw6c88mlGPnTYpJZJYrMKOnkRPHCF7eVivMxOFp0qanF7vbR%2Bqut2nv01R6VOrKcuVr%2Bv8AgnpVQ3%2Bn2GqWj2Gp2MNzBIMSQzxB0YehB4NeBxf8FRv2KLSRbXxl8UNQ8J3OcPbeMvCGqaUUPoWubZE/JjXb%2BE/2zv2Q/HYUeDv2ovh9qLv0htfGFk0g9inmbgfYis5YLG01eVOS%2BT/NJ/mUq9GT0kvvRD4z/Yh/Yz%2BIhd/HX7J/w31aR/vT33gqxklz6hzFuB9wa4G4/wCCRv8AwTteZ7nSv2bLLRpHOS/hrXdR0o59vsdxFj8K%2BhdJ1vRdetRe6Hq9rewnpNaXCyKfxUkVapwxuOpK0asl/wBvS/K/6G6nK2jPm3/h1z8DNN48DfGX43eGFH3U0L4266ir9BLcv%2BtH/DuW/tuNH/4KBftJWYHQf8LGgucf%2BBVnLn8a%2BkqKr%2B0cd1nf1UX%2BcWPnn3Pm3/hgz4zWnGkf8FNfjsgHT7bPoVwfzbTBmj/hib9ptOIP%2BConxaA/6aaD4eY/n/Z1fSVFH9oYruv/AAGH/wAgHPL%2Brf5Hzb/wxH%2B0pLxd/wDBUL4usO/k6L4ejP5jTqP%2BGAvilejGt/8ABS/9oGT1FjquiW2f%2B%2BdLOK%2BkqKP7QxfRr/wGH/yAc8v6t/kfNp/4JvQXX/Ib/bs/aSvQfvD/AIWs9rn/AMBIYsfhij/h1T%2By7qn/ACPniX4q%2BKs/e/4SL4z%2BIZQ31CXiA19JUUf2jjulRr0svyig559z530f/gk3/wAE5dHuxft%2ByV4X1Kcf8tvECTamx%2Bpu5JM/jXpvgn9lz9mb4aMjfDn9nbwLoBj/ANW2i%2BErO1K/QxRLXd1l%2BI/HPgnwfEZ/FvjDStLQDJfUdQjgGPq7Coni8bX0lUlLyvJ/hf8AQlzlbVmoAFAVQAAOAKK8i8Xft/fsQeBgw8S/tafD2GRPv28Hiu1nlH/bOJ2f9K5g/wDBTn9lvWP3fwyHjnxzN/DD4L%2BGusX276SC2EZ/B6I4HGzV1Tlb0aX3uy/ExdegnZyX3/8ADn0JRXz3/wANkftAeLePhH/wTt%2BJl4P%2BfjxnqOl%2BH4vria5klx/2zz7Uh1f/AIKieOvnsPBvwZ%2BHttLwRqeraj4hvIR67YY7SEkf75HtVfUasfjlGPrKP5LmYvbwfwpv0T/Wx9C1S8QeJPDvhPS5Nc8Va9ZaZZQjM15qF0kMSD3dyAPxNeD/APDIv7TXjjj41f8ABQrxtLAeTYfDzQNP8Oxg9x5oSe4x/wBtQfQirmgf8E0P2NtP1SPxF4x%2BFkvjjVkOW1b4ja1d6/M7f3iL6WSMH/dQCj2ODh8dW/8Ahi/zlyr8A560to29X/lcXxL/AMFKv2P9L1WTwz4I%2BJE/j7Wk4XRPhro1zr87t/d3WSPGp/3nUVnn9oX9uL4rHyvgf%2BxhD4Uspf8AU%2BIPjD4mjtCo9Tp1h585Ps7x/h2958N%2BFvDPg7SY9B8IeHLDSrGEYistNs0giT6IgAH4Cr9P2%2BEp/wAOlfzk7/hHlX4sOSrL4pW9F%2Bruz52P7In7RvxX/fftN/tseJJbST5pPC/wtsU8N2Iz96NrhWlvZkxx/rkz6dc%2BhfBX9kP9mj9niRrz4P8Awa0XSL%2BXP2jWjbm41CcnqZLuYvPJnn7znqfWvR688v8A436/onxS07wR4k%2BE%2Boafo%2BtaxJpWj%2BIZ9Rtm%2B1Xa28tx/wAe6MXWJkgl2uTuJQ5RRg0nicXXi4J2j2Vor7la/wA7kSWHoNSlu3a7u/x1t%2BB6HWV4w8b%2BF/AXhq/8XeK9VFtYabGHvZUieVkBIAASMM7MSwAVQSSQADmvDfiH8WviV4U%2BJHizxqPiBPDpfg7xLpFnd%2BEpbaD7LNpF5FbpJdhxH53miWfzA/mbVWFk2dSfLvDHw3OpR2vwO%2BG%2B3SPHY0m%2Bj8YRm2MSvqWmXi3Wm6vdhQBIZ7gKfPwfOSWVcnbgXTwSa5py00/zd/k1rrucVbM3GThThd6rXq9Urd9U9G07L7vr3wD8RfCPxN0Rtf8AB2pPPDHO0FzFPayW89tMoBaGaGVVkhkAZSUdQwyMjmvN/id%2B1Z4i0bxxf/CX4H/s8eLvHnibTmRL6RLX%2BzNHsndFkUTajdBYydjq2IVlODjGeK1PgR4c8dx%2BP/HXxI8XeB7rwxF4nvNPkj0S61K3uS1xb2gt5bsNA7KokVIIwCQxW3VmVSxUen1g/Y0aruuZevXztvbbRo6l9YxGHVpcju7u2trtaKW19HqnbtseA/GG48eXXjz9mG5%2BJ%2BmaXZ6%2B/wAXr06pa6JdyT2sUv8AwhXin5Y5JERmGMclRzmvfq8Z/ag/5Lf%2Bzj/2Wa%2B/9QrxRXs1YN3dzriuWKV7hRRRSGFFFFABRRRQAUUUUAFFFFAHjP7eH/JEND/7LN8OP/U10SpvGVr%2B2x4I8V6h4j%2BH%2Bp%2BDfHfh%2B4unmt/DGsQyaPqFnETxBDdx%2BbFLgfxSxqT3b1h/bw/5Ihof/ZZvhx/6muiV7JHLFKCYpFbaxU7TnBHUfWrhPkeyfqc2KwyxMUueUGtU4uz/ACaa8mmjxGH9unwP4RlXTv2jfhr4u%2BGN1uCNdeJNIM%2BmO/omoWnmwEe7sn06V614N8eeB/iJo6eIfAHjHS9csJPuXukahHcxH/gcbEVqTQxXETQTxK6OpV0dchgeoIPUV5L4x/Ya/Zn8V6w/irS/h/8A8ItrrZK6/wCB76bRrxW/vF7RkDn/AHw1XehLdOP4r8bP8WcXJnOH%2BGUKq/vL2cvvjzQfzjE9cqj4j8L%2BGfGOkS6B4u8O2Oq2E4xNZalaJPDIP9pHBU/iK8c/4Uh%2B138OPm%2BEX7V0XiKzj/1Oi/FHw8l2SPQ31mYJvxZX/Hv6T8JNU%2BL%2Bq%2BGJH%2BNvhDRNH1mG8eJY/D2ryXlrcwhVKzK0kUbx5YsNjAkbQc84ClDkXNGSf3p/dubUMZOvP2VahODt1SlF/wDb0W18mlfseZap/wAE6/2bbbUJdd%2BEtn4g%2BGepzNue%2B%2BGviO40lSfe3RjbMPZoiO3SsD4gaB%2B17%2BzH4L1H4ixftoeFdd8NaNbGW7T4s%2BFBC0EQIAze6a0bM5JCjMDszEABiQKg/a%2B/bB%2BHX7MHxW8N3t58Ydalv9Q1FINT8F6dbR3sUtosblgkSxmRblpGhVAsgOXUsAmWHjmtyftT/t7fFfTfAn7QENt8O/h3Nqtnq2nfDTVrCW1v9es4p3kRLm5aCVfOCwGR7dWXAdMgH5x7uDwuJq0418XK1Dq5K7dt1BNc0n5p8qvdtbHzmOzLLsPVnh8JTft0%2BVKDtFNrRzcWoxXdNczask29M/4mftg/tt/tifss6t4U8N/8E6J5tK8TWX2Z/FL3ZvbaS1c4N5aWNxDBLK2P3kTZO1grc4xXtvwB/bO/ZP8AgN8IvCXwN8f%2BOfEPhC78OaFaaXn4j%2BEb/R3maKJUMheePyV3EE7RIQAcA4ANes%2BGP2kvBmseIJNGm8P6hpWkC31GTS/Ed95CWN7HYS%2BVdFNsheNUPKmRFV0BZSQDjo/A/wASPh78YtIvJPDF097b28ogvbbUNLmt2Usiuu6K4jRirIysrYKsDkEissXmFGtQ%2Brxw/s6SlzWjJt3atduXMm7aacq30OrAYZxxPt44xVaso8vvRS0i%2BZqKjyu13e/vXVtbD/Avxf8AhN8ULcXfw0%2BJ/h7xDEV3CTQ9aguxj1zE7V0VeT%2BOv2FP2OfiRcG%2B8V/s2%2BEXuy2439jo8dnck%2BvnW4STPvurnf8Ah394G0D5fhP8fPi94KiX/VWmifES6ubZD/1xv/tCY/CvM5MHLabXrG/4xf6Ht%2B0zGHxU4y/wya/CUf1PeqK8GHwB/bY8M8%2BC/wBvBdTij/1Vp41%2BG9jdbh6NNZvbP%2BOCaPt//BTHw589z4c%2BCniuJOq2eparo80g9hJHcoD/AMCxR9Wi/hqRfza/NfqH12cfjozXolL/ANJl%2Bh7vLFHNG0M0aujDDKwyCPQiuI8Wfsxfs1%2BPSx8c/s9%2BB9ZL/fOq%2BE7O4J/GSM15/wD8NFftmaLz4q/4J931zGv%2Bsm8LfEnS7z8Qlx9mc/TFH/Dc2oad8niz9i3456ay/wCsaHwRHqCD6GyuJiR%2BFXDD4uDvTf8A4DJfpJCeYYJr37r/ABQkvzgw1b/gmB%2BwDq1yb3/hlrwzYzHpLokUunsPobV48fhVX/h2V%2BzLp3PgzU/iN4bI6HQfi1r0O36BrtgPwFW/%2BHj/AOzPYfJ4vXxz4dfvHr3ww1uDb9SLRlH4mpLX/gpf%2BwjdTC3l/aW8P2kh/wCWep%2BdaMPqJo1Iro587S3m/vf/AMkZfW8mv8cF80vz5SgP%2BCfVpa8aL%2B2d%2B0FZAfdA%2BKEtzj/wKil/Wj/hh/4nWP8AyA/%2BCiHxwi9BfX%2Bj3WP%2B%2B9OFdfpv7c/7FurgfYf2s/hwSeiyeNLKNj%2BDyg1t2X7T/wCzVqQB079obwNPnp5Pi2zbP5S1DxGZr4k/nBfrTNo1Mul8M4/Ka/8Akzzb/hkf9p%2B3407/AIKT/EVQOn2nwt4fm/nYik/4ZZ/bGXiL/gpl4wA/2/h34cb/ANs69cg%2BNvwYuhm1%2BLvhiQf9M9ftj/J6sL8Vvhc4yvxJ0A/TWIP/AIqo%2Bt4xbxX/AIBH/wCQNFHCvaX/AJN/9seN/wDDK37YMnFx/wAFMfGZH/TP4f8Ah1P5WdL/AMMf/tIXXGqf8FI/ic4PX7JoOgwfysDivYn%2BLXwriGZPiZ4fUerazAP/AGeqlz8d/gfZgm8%2BMvhSIDqZPEVsv83oWKxr2iv/AACP/wAgDWFW8v8Ayb/7Y8n/AOGFfHF582t/8FBvjzOe62uv6Xaqf%2B/WnAj86P8Ah3j4avOPEH7WHx91NT96Of4t3sKN9VtvKFeiX37V37LelgnUv2k/AFuB18/xjYpj85awtU/b6/Yi0gE3f7Wfw9bHUW3iy1mP/kN2q1XzSXwp/KC/SmZSq5bD4qkfnNf/ACZzH/Dr79j%2B%2B%2BfxX4b8W%2BIJD95/EHxL1263fVWvNh/75rU8Of8ABNf9gbwvKJtO/ZH8CzuDnfqmgx3zE%2BpNwHyarv8A8FNP2GC5jsP2gLDUWBxt0fS729P4CCF803/h4n8DtS48EeBfij4mJ%2B7/AGF8KNZfd9DJbIKtyzpqzc0vVr9YmSxeTp6Tg/Sz/JSPU/CPwV%2BDfgAqfAfwl8M6IU%2B4dI0G3ttv08tBiumrwY/tqeOtY/deCP2E/jPfyH7japo1hpcR%2BrXV4rD8Vo/4Xh%2B3drv7rw9%2Bwvpekb/u3Hir4qWi7Pdo7KC4z9A1c0sNiZO82vnJf/JNmqzDCJWgpP0hN/8AtqR7zRXg39m/8FMPEv7q78UfBbwnE/V7HTNU1ieMexkktkJ%2Bq0n/AAy9%2B1J4o/dfEn/goH4q8hvv2/gnwjpej4/3ZHjuJR/32an6vTXxVYr0u/yX6j%2BuVZfBQm/Xlj%2Bcr/ge9VwnxE/ah/Zu%2BEgkHxM%2BPHhHQ5I87rbUfEFvHMT6CMvvY%2BwBNcB/w7n%2BAWufP8WPEnxA8fP/ANTn8Q9SuY/%2B/McscOPbZj2ru/h3%2Byn%2BzN8JTHJ8NfgD4P0WaPG26sPD1uk%2BR3Muzex9yTRy4OO8pS9El%2Bbf5Bz5lPaEY%2BsnJ/dFJficGf8Agon8GPEfyfBXwD8RfiO3QSeDPAl49vntm5uVhgx/teZj3o/4W3%2B318Qv3fw//ZT8MeCrduY9S%2BI/jQXEm31NppqSYPsZl9Dive6KPbUI/BTX/bzb/D3UH1bF1P4lZ%2BkUo/i%2BZnDfBHwt8ffD1nqF18ffizoviW9vZY3s7bQPDJ06201QG3xoWmlkmDEg7nII29Oayvid8K/i/wCMfjd4b8deFfGXhzTdF8P6XcJHHqWjT3l0LueRFlljCzxRqfs6GNXbft82Q7DkV2Hjn4qfDH4Y2f8AaHxI%2BIuh6BBt3CXWdWhtVI9jIwzXl8/7fvwK1iVrP4Rab4t%2BItyjFWi8CeE7q8iB97llS3A9zJilB15TdSMd/LTt5L8TDE4nK8LBUK9ZJpp2c7zdnfZc03/4Cd3rHwF%2BG/izWNL8T%2BO9GGt6vpEvmWmqXmI5DiQSorrAESVEdVZVdWClQevNdnXh5%2BJv7cnxD%2BTwD%2Bzn4b8EWrcpqPxD8Tfapyp7/Y9PDYb2adffFIf2WfjP4/8A3nx6/a/8V30LctovgW2i8PWeD1Rni33Mi9uZhn9KUoNpe0mtPn%2BC0/Ezhj3Jv6phpyv1aVNP1c7Sf/gDPQ/il8ffgn8E7P7b8WfinoegArujh1HUUSaX/rnFnfIfZVJrzr/hr7xt8Rv3H7NH7MvizxRE/wDqvEPiSL%2BwNJKnpIsl2vnzL7RwnPr6dh8Lv2Tv2cvgzef2t8PPhDo9pqRbc%2Bs3MBur927lrqcvMT9Xr0Op5qEdk366fgv8y/Y5xiP4lWNJdoLml/4HPRfKB4J8aJPG8vxB/Zjk%2BJFrpcGut8X706nFok0klokv/CFeKciJpVV2XGOWANe914z%2B1B/yW/8AZx/7LNff%2BoV4or2asm7u56kI8kFG7dur3frtr8gooopFBRRRQAUUUUAFFFFAHy78Bv2xvjb8QPjF4Wk8baZ4WXwH8TNa8XaZ4Ks9L025i1XS5NFu5YoZLy4e5eK6W7t7a5mKxwwG3by48z5Mgu/Cv9qf4u67%2B2l4r%2BBvxY8TaJ4Z0W38T3Om%2BANAv/hPrdpc%2BJ7aLS7e7Nxa69PdjT7uRXa7LW8EDSCO1ckAIzjovB37BngbwF8SZviN4X%2BLvjeAW11rN14U0J59OlsPC0%2BrXq3mpS2KPZF2aeUOP9JecQpNLHAIVfFb99%2By1B4i%2BOWi/Gvx78b/ABr4ih8La1c6v4R8HakdMj0nRb6azuLJp4vs1lFdTFba7uo0FzcTKonYgblRlAOM/wCChfxc%2BFHhrwf4M%2BFHiP4neHtP8U%2BIPjD8PZdB8NXutQRahqSR%2BM9GaRre3ZxJMFVWLFFIAUk4wa7Xxf8Ash/CnxD4lvfHXhe/8Q%2BD/EGoTtNfa14P1%2BaykuJDyWkjy0MpJ674znvWX%2B3h/wAkQ0P/ALLN8OP/AFNdErpvEXxW%2BJ/g/XbuLWfgHquo6NHOwtNV8NahDdyvHn5We2YxyKcdQu/8ayrV6dBJzvbyTf32Tt9x5uZUsuq0orGU%2BaKej5ZPldt7x96OnVNdrnOf8IX%2B2h8PufCXxe8MeO7Neln4y0dtPuwo/hF1ZZRm92h%2BvrR/w1D4%2B8Hfu/jV%2By14z0ZV%2B/qXhtI9dslXuxa1PnKP96Ee9dFon7UfwO1e9XSL/wAbR6JqB4bTvEttJp0yn0xcKgJ%2BhNd7aXlpqFsl5YXUc8MgzHLC4ZWHqCODSpYihXV6c1L0af8AwV80jgoYWFRXy/Gy06OUasV6qfvr/wADRwHgb9rD9m/4jXX9neFfjHoj3u7adNvrr7Hdg%2BhguAkmf%2BA13893a2ts97dXMccMaF3mkcBVUc5JPAHvXyj%2B0n%2B0d4X%2BOXju%2B/Zu/Zk/Z38O/F7xhYL5et61r1rE%2Bg%2BGSSR/pFyQS8gIP7qIhsqwB3KVrl/B3/BF/wAE%2BIPCDWn7Rfx18WazqF1MZ5dJ8MXiWGiWLE5CQWrxuCFPG5sbgASoOa92GVwo01UxtT2aeqjbmm135brlT6ObjfomtTkhm%2BdzrSpYelDEKN7zi5U4pr7N5qcW%2B/I5W6u%2Bii%2BCXhn4OfGv/gqp8SfEnguXTNNt/A/hOCKyXQ78GXUtSvpBLdatG8TFAQp%2Bzvyc7k3AHIH1F4i%2BCmpeLvHmneJPE3xO1W90bSdYTVdP8OSWdqscN2issZEyRrK0a72YIxJ3bfmwMHyf4S/sSfEf9lhZ3/Zo8b%2BBAJ0Ec0XiH4dwQXE8YOQst5YNFJIAem5Wwea7T/haP7YHhT914v8A2YdI8QInMl74K8aRgkeogvo4T%2BG8ms8yxtLE4iLw6ahGMYrmtfRWb0vu23v1ObLeXBYWUMfhpwlKcpvlhKULuV0r05SukklrBJ2va7ZyGtfsq/Fa5%2BFt54S1jUdM1JdE8PPpfhyx02Zkl1SN7kS3TzvKESGaeBfI2glFMjsXwQF9P%2BDfhvxZL4x8XfFnxloNzo8/iW6tIdP0W8nikmtLO1hKJ5phd4/MeWSd8I7AKyDccVz/APw2f4M0X/kpfwl%2BI/hJV/1lxrHgq4mgU/8AXWzEyH65rZ8LftgfsueMpBBoXx68LmYnAtrzVo7WbPp5cxR8%2B2K4pV5zi0zswlbhyliYuniUpL7MpKLbSaWk1CWibSVrerV3V%2BI3x8%2BKvw58ZXmlj9k3xj4i8Pw%2BX9k8Q%2BFr/T7lrjMas/8AoslxHKm1iy9Dnbkdaw/%2BG/fgjo/y/Enwx4/8GN/1NHw81KFB/wBtI4ZI8e%2B7HvXs2m6rpes2q3%2Bj6lb3cD/dmtplkQ/QqSKsUlOlazh9zf8AwT1pYfMXJzo4nR6pShGS9E4yi7dt/Vnl3hb9tv8AZB8ZMI9B/aU8GNIxwsF1r8FvKT6bJmVs/hXoWheKfDHiiD7V4a8R2GoxYz5ljeJMuPqhIql4p%2BGHw18cBl8a/DzQ9YDDDDVNJhuM/XzFNee67%2BwJ%2Bxh4gn%2B1XX7NvhW1lzkS6TpwsWB9QbYoR%2BFP/Z33X3P/ACJvnkOlKfzqQf5TR69RXiQ/YC%2BBumc%2BB/EvxC8MHt/wj/xL1eID6B7hwPpjFH/DHXinTvn8L/to/GOzYfdW81%2BzvkH1FzaOx/76o5KL2n96f6Nh9azaPxYVP/DVj/7dGLPbaiu7Kzv4jb31pFNGeqSxhh%2BRrxf/AIZ%2B/azsPl0b9vXVnQfdXWPh9pNxj6mNIifzo/4Vj%2B3lpnNh%2B1b4K1PHQan8MHiz9TDf/wBKPZQ6TX4/5B/aOKXxYSp8vZv8qiPSdS%2BDnwi1kk6v8K/Dd0T1%2B06Hbvn/AL6Q1iXv7KP7LepEnUf2bPAFwT187wdYvn84q5H%2By/8AgozafLF40%2BC98B0abw7q0DH/AL5u3H6Uef8A8FHIf%2BYX8Erj/t/1iHP/AJCetF7WO1Vf%2BBMxljaEvjwlT/wVF/8AtzNyf9iD9jC5O6b9kj4ZknqR4F08H9Iart%2BwZ%2BxK5yf2Sfhz%2BHg6zH8o6y/7b/4KLw/6z4cfBqb/AK5eLtVX/wBCsaP%2BEp/4KGLwfg38J2918cagP52FXz4pf8vv/J3/AJmbxGXPfBz/APBBqx/sH/sTRnK/sk/Dg/73gyyP846t237FP7G9md1r%2ByZ8NIyP4l8CaeD%2Bfk1z/wDwk/8AwUOfhfg/8JU938b6if5WFH9rf8FGZvueA/gtB/108U6s5/SyH86HPFPet/5O/wDMFiMvW2Dn/wCCEdpY/sw/s1aWQdN/Z58DW%2BOnkeErNMflFW7pnwx%2BG2iEHRvh7odoR0NrpMMeP%2B%2BVFeXbv%2BCjs3/LH4JW3/bXWJ8f%2BOpR/YP/AAUTv/lufiZ8HtPB/is/COpzsP8Av5eqD%2BVQ1Ul8VRf%2BBNmscbRj8GEqf%2BC4r/29HtiRpEgjjQKoGAqjAFLXiX/Co/25tQ%2Ba/wD2x/DVhnqml/CtGx9GmvW/lR/wzh%2B0zqfyeJf29vFRjPVNG8H6NZ/kxt5GH5ms/ZQ6zX4/5Gv9oYt/DhKnzdNfnNnttFeJH9i24vefEn7Xfxq1At95V8bJZKfoLOCIgfjVOH9hT9kjWNXm0PxO%2BueJ9Tt41kurbX/iNql5MiN0Z4musAH1K80clBbz%2B5f5sl4vNXZLDxjf%2BarH/wBtgz13xN8Tfhv4KVm8ZfEHQ9JC/eOp6tDBj672Feea9%2B33%2Bxp4eufsVx%2B0X4avZ84EGiXh1FyfQLaiQk%2Bwqt8Lv2Xf2CL2Ga9%2BFvwW%2BG%2BrCyuDDPdWumWl%2B0MoAJUyMHKtg%2Bua9Z0Hwr4X8K232Pwv4bsNNhxjyrCzSFfyQAUf7Ou7%2B5f5ipzznEQUoSopPquep%2BN4xZ5B/wAN1eCdZ5%2BG/wAD/iv4tRv9XcaP8PbqCFv%2B2t6IEH4mj/heX7Yfij5fBH7FY0uKT/VXvjbx7Z220erQ2i3L/hkGvbqzfEXjHwh4Qt/tfizxVpulxYz5uo30cC4%2BrkCj2lJbQ%2B9t/wCQ54XHcvNXxbiv7sacF98ud/ieRf8ACIf8FA/GI2a98Zvhx4KiPOPDHhW51Wce3mXk0afj5X4Gj/hjLVPFH7z4xftV/FHxOX/4%2BLK219NGs5R6eTp0cJx7FzW3rf7bv7KWiXf9nj426RqVz2tvD5k1ORj6BbRZCapf8Na3%2Bv8A7v4Z/sz/ABM15n/1FzP4fXS7Z/fzb6SI49wpo9vUXw2Xol/wWeVKrw05ctTEOs%2B3tJ1f/Jad1%2BBoeB/2KP2UPh3ef2p4a%2BA3h5r7du/tLVLP7fdbvXz7oySZ991enwww28SwW8SoiKFREXAUDoAB0ryD/hLv24PFv/IB%2BDngbwhF/wA9PE3iebUpsevlWcSJn2838aT/AIUR%2B0Z4t/5KT%2B13qlrA/Mlh4G8O2umBfYTzCeXHuCKzlOc3eTb9Tsw%2BLo0IcmAwU7eUI0o/fNxf/krZ65qGpadpFnJqOq38NrbxLmWe4lCIg9SxIArzHxD%2B2p%2BzZomotoWl/EeLxFqY4XSvCFpNq07N/dxaLIFP%2B8RVGx/Yv/Znj1mF/HOj3PjDWCpkSbxx4guNUlkA6sIriRo8fRAK7v4faz8KIZrnwV8NodNs/wCz2Il0/TrAW0a7WKMUAVVcBhtJTIB4JBrJ1IKSTauzR1s6qyUW6VG%2Biu3Ul6WXs4Xt6nB/8L0/aL8dDZ8Jv2Vr%2Bwgk4j1b4iaxFpiIfU20PnTkexVD/Kg/Bb9pr4gfP8WP2mm0W1k/1mj/AA30dLLHt9suTLMfqoT/AA9V1/xN4b8K2R1LxR4gsdNth1uL%2B7SFB/wJyBXCXP7Vnwou53sfAf8AbHi%2B6RsNB4T0aa8UfWUAQge5esquKw1B2qTSfa%2Bv3av8DCvhcJTdswxcpt/Z5lBP0hStJ/fI5D44eFrPwV8R/wBmXwpp%2BoX93DY/GC9jS51S%2Be5uJP8AiivFB3SSyEs7HPUmveK8L%2BPerXuu/FD9mjWNR0C60ue4%2BMN88mn3rIZYD/whXij5W2My5%2BhNe6VvGSlFNdT36SpxpRVNWjZW32tpvrt317hRRRTNAooooAKKKKACiiigAooooA8Z/bw/5Ihof/ZZvhx/6muiV6lZeN/B2o6rNoVj4p0%2BW%2Bt5TFPZpdp5qODggpnP6V5b%2B3h/yRDQ/wDss3w4/wDU10SvTfEvw78CeMAf%2BEo8IadfMR/rbi0UuPo%2BNw/A1xY3%2B0VBPB8jd9VPmSa8nC7Tv1aa8iZc3Qu634e0DxNZNpniPQ7PULZvvW99bJKh%2BqsCK%2BAPgB%2Bz/wDEX9vLVvEHxCk%2BJlt8H/CWl%2BIr7QtS8D/C15rbUpJIX2PHeTudkTFSOEjKsrcqK9k/be8Y3P7OnhfRvAX7OnibW7b4jeOtQ/s7wZoiay0trDjBnvpo5xIqQQRnczcAHbn5Q2Ol/Zj/AGS/H37J3hrUYfBPjXSvFereJL7%2B0/Fmu%2BI0uEu9UvWHzSGVZJAFyW2jb0OTkkk9WFzGpleXSxeNwS%2Bstx9lyezrzUU3zVEnySjC/uRk4OTmnyqyk18vmOEpZvm1OlOnzQpXdRrTVpOEeZWk2tZSipJKLTluk9H4Tfsk%2BKv2ZfB0PgL9m34pWlhols5ki0fxB4ZgnEsh%2B88k9v5MrucDLtuPAHYV03/CZftReG/l1/4NaB4hQdbjwz4kNu%2BP%2BuV2ijPt5la3/CxviLpH/I0/BXUWQcGfQtQhvAfcIxjf9KWP4/fDWFxBr9/e6LMTgxa3pc9tj/gTpt/Wvm6ufZPOq6lbFzpTk7v2vPC7ff20OX/yc9Knl2Gw0FDD1J0ktkn7q8lGakkvJNGR/wANO6FpPHj74X%2BN/DgXiS4vvDUlxAp/662vmrj34rV8OftI/ATxW4h0X4uaC0xOBb3GoJBLn08uUq36V0mi%2BMvCPiQA%2BHvFOnX2en2O9ST/ANBJpniPwJ4I8YRmLxb4O0rVFIwV1HT45xj/AIGpr1aM8RWpqdCtCpHvZW/8ChJo2VPNIL3KsJr%2B9Fr8YS/Q0bW7tb2BbqyuY5onGVkicMp%2BhHWsrxT8Ovh944jMPjXwJo2sIRgrqmlxXAI9MSKa5G6/ZK%2BALzteaT4FOjzscifQNSuLBlPqBBIo/MVH/wAM867pX7zwf%2B0R49sGX7kd7qcOoRD/AIDcxOx/76rX2uOj8VJP/DJflJL8yak8dKHLWw8ZrynFr7pxRR1L9hj9lC/u2v7T4NWGlXDf8t/D1zPprD6G1kjxUH/DH1jpn/Il/tEfFbQ1X/VQQeM3u4k9gl4kwx7Vq/8ACEftQ6N8%2BkfHXQdXx0i13wf5efq9tOn6KKP7a/a20j573wH4F1pR207XrqzdvwlgcD/vo0fXGvjpTXyv/wCkyf5HlvAZMneWAlB94wt%2BNGpH8jK/4Ul%2B1HpPy%2BG/2zbqeNfuReIvAthdceheDyGP1zR/Zn7eekfu7bxZ8KdbRej3mj6jYSN9THNMo/Ba1f8AhcHxr075vEH7LesbB959H8RWF3%2BStJGx/Kl/4aVt7b/kNfA74j2IH3mfwo06r%2BNu8go/tDCr4m16xkv/AG0Xssph8NetT/7frL/0uE0ZP/CfftsaL8uqfs6eDNZx1fRfiBJBn6C4sx%2BpFH/C/P2itP8Am1/9ifxEEHV9J8WaVdfkDNGx/IVrf8Nb/A2D5dX1zVdNfump%2BGL%2BDH1LQY/WrNj%2B1d%2BzdqB2w/Gnw%2Bh9Lm/WHH18zGKazDAN29rH/wACS/Noanhr2p5m15SlRf8A6VCLMD/hrLV7X5dY/ZN%2BLlsR94xeG7a5X8DBcuT%2BVL/w2d4Jt/8AkNfCD4p6cO5vPhtqOB%2BKRsD%2BFdvY/G74Mang6d8XfDFxnp5Ov27fyeta08Z%2BD7/BsfFemzZ6eVfRtn8jW8a9CfwzT9Gn%2BTOqEMfP%2BHj4y/7h0n/6TUR5l/w3T%2BzrDxqereJbFu63ngHWEx%2BP2Uij/hvT9lBf9f8AFNof%2BvnQL%2BL/ANDgFeuxTwzrvgmVx6owNOrU29hnvTEU3/3Cf6VTx/8A4b6/Y%2BH3/jrpSf8AXWGdf5xilH7fP7HB/wCbgtA/GVx/7LXr9IVU9QD9aA9jn/8Az%2Bpf%2BC5//LTyE/t9fscDp%2B0DoJ9lkkP8lo/4b4/ZCP8Aq/jdp0n/AFytLh//AEGM16%2BAB0FFAexz/wD5/Uv/AAXP/wCWnkH/AA3n%2Bys3%2Bo%2BJF1P/ANe3hjUpf/QLc0f8NyfAaf8A5BC%2BL9QPYWXw91ds/wDfVsK9fqK4vrK0Gbq8iiHrJIF/nQ2luDoZ7bXE016Un%2BtU5v4WfFrRvi3p11qmieGPEemxWswjI8R%2BHrjT2lyM7o1nVS6%2B44zxXEfHKyvfC/xK8NfEPSNSkhiGt2kGseX4mujPIsjeSsEVgSbdlbeC7Da/ykgE816TefEDwHp%2Bft/jbSIMdfO1KJcfm1cnq/xD/ZUg8Sx%2BNNb8a%2BAP7agQJDqk%2BoWRu0UZwqyE7wBk8A9z61jLEYeHxTS9Wl%2BpnjYxq4KNKrXhzpp8zahs73SUn6WvZ63aueaftCX3h4%2BONY13U7m2l1mTSdOf4a3UTq0ss8d1%2B/gs36mZ2IV1Q7mRyDlQcQTeE7zUvHl74G0/Rbq28WT%2BIdda71MWUih9Nu7RykpnxtMe8xoi7sq0YAAC5Hpj/tX/ALMulqtna/FjRWCDCQ6eWmwPYRKf0pP%2BGsPhHdfLoEXiXV27Lpng7UJM/QmEA/nWLzHAf8/Y/Jp/lc8arhcpq4iVSeLhq7tKzeu%2BqbfN0jK11HTUxvgNp/iO78fQa3ceFNT0iHTfAVjousx6hpslskuoQSt/qdygTIq7x5iZUhkwfTqvin8KPG3xF1a2m0T4%2BeJvCmnxW3l3Fh4dt7MNO%2B4nzPOmgkdTggYHHGcZzWd/w0XqF58uhfs8/Ea7Y/dM2hR2qn6m4mQj8qT/AIWj%2B0JqH/IH/ZhkgVvuyaz4wtIce5WESn8KX1/DP4W36Rk//bUejR/syOC%2BrSlOom7vljUV9v5FGy0V0pWere9llf8ADFvgHVPl8efFL4k%2BJ0P3odZ8fXqxH/gFs0Sj8AK0fD37Fv7KXhif7Xp/wE8Nzz5z9o1SwF7Jn133G9s%2B%2Bc1J9o/a91T5otN%2BHmjI3QTXN7fSL%2BCrCpP40f8ACtf2jNV%2BbXP2kobJW%2B/DoHhC3jwPQPcPKfxwKPrc5fBRm/ko/wDpUv0IhgcpUuanl7k%2B8oRv99Wc2d/onh3w/wCGrQWHhzQrPT4B0hsrVIkH4KAKt7l3bNw3EZAzzivNf%2BGabLUf%2BRv%2BMvxA1lW/1kM3iZ7aJ/bZarEMVv8Aw/8Agb8K/hdqU2teB/CSWl7cweTcXslzLPNJHuDbWkldmIyAevarhUxc5rmpqK85Xf3JW/E9ihUxrko%2BxjCH%2BNNpeSjG34opfGvxB8QPCOlR%2BJvCF40kNuR52nw6IbkyEZZmlkD5iiCA5KoWzjBOQtQfFHw/r/iu40TxX4bv7W60u2t5pLy0ufEdzYW0ysEaOUmAES4K8B8LhjzVz4rS6bqeoaR4O1G%2B1eKHUp2juxpd4IQYmxGBKcFirMwXCkHJ64rM8dado9m1zpEHg3R73TNE06HUbmw1ayNwHVd0YEW9tsW1I2OdpyRjAzmvGx2Y4Wk6/NJtRcU0rtqVnPbtypuW%2Bias3oYYjD1atSqm/dfLbV6SWulk7LuuvY42%2B1i11/WY/HKeHLuLWfEB0TU/Csj2bvKm5fKmtvMA%2BVY13NIpIBEhbB3V0vgbwT4v0jxb4e0O50C6ht/CsupodZaWMwXllOx8iJQG3l/9SWyuAYTydwrSj8Q%2BKUv5r2x1oiJ9Xk0q303yI1igBiDQOoC7twyGbJIIJwABTvhXqC/2pY2%2BmahNNDqHh1LzUoJ7t5nt7wMituLklS25wRwMxHivNw2aYapj4UuWV5S391X952dle95RbeqlCNrpq9saOWxjVU5Tbd09ElfW%2Bu%2B8le%2B6VlsdR4m%2BHvgTxreWeoeMPB2marNp282L6jZJN5BfbuK7wcE7V59hWpDDaafaiGCKOCGJcKiKFVFHsOAKxfGGheIfEU9vZaB8QZ9FVFY3cdnawySzA42kNID5eOeQDnI6Y5yE%2BAvge7cTeLbrVvEMgOQ2uarLMo/7ZgrH/wCO17dfFZisTOGDwql0c5VIRi3ZdIqdR221Ufusz1vZqFRyjBJvd6K/rpd/M4v9pi4t7v40fs33NrOksb/GW%2BKSRsGVh/whXijoR1r2mvEv2jtM03RvjB%2BzbpekWENrbQfGS%2BWG3t4giIP%2BEK8UcBRwK9tr16ftPZr2luayva9r9bX1tfa%2Bvc2VwoooqwCiiigAooooAKKKKAOY8OfG34MeMfiDrPwk8I/F3wxqvivw4iv4h8M6br9tPqGlq2NrXFsjmSAHcuC6jOR60Wvxt%2BDN98U7n4F2Xxc8MTeN7OwF7eeDotft21WC1IUid7QP5yxkOnzldvzLzyK%2BOP2ePD3jPwX8avAeh%2BIPhB4107Uvhj4n%2BJN/4/8AEx8D6i1rqVtrGsSSWgtblICupG9ee1vWS3MphFo3niJ4wtXfB3w/%2BIMX7Unh74by/CjxRDr2g/tO%2BJPHuteM5fDV0mlTeHbzQtTt7aRNTMf2aeQre2Gn/ZVkMyfZmYxiOFXoA97/AG8P%2BSIaH/2Wb4cf%2BprolejeJdR8IfDDSdY%2BJ3izxNLp%2BlWFlLd6pPe3rG3t4kG95NpzggA9PXAFeX/ts/B/9p/4w%2BFdF0z4A%2BKfAS22k%2BMPDevah4c8YabewvqraXr1jqZjj1S2lkFiGS0K5NjdbmIHyBty/Jfwr/Zf/a9/artbz4l/HzwXonxG02w8Y65pEHhjxT%2B0hqtppkVxper3enSuLa08MAMpmtHZCX%2BaMruUElRdLLspxtaFXHSt7J80bRk5Xs0%2BW0opO117146/C7HJi8TmFCHLhKak5XTvJRiu3No5NX6RV9N1c9s/Za8PeM/2k/E/iP8Aby8ZeDfs7%2BKh/ZHw407Ut3nWPhxGURTBQp8tp5DLM3UEMGB27a%2Bk/Gcumz6fbNPfWafZ90wsrokeftUrtXlTkHocHkDjmvObLxX%2B39ptnDp2nfsqfBS3t7eJY4IIfjrqqpGijCqqjwtgAAAADpipH8af8FB5ABJ%2By38F2AORu%2BO%2BrHB/8Javms/4fpZvi8bXpS5frEYR5Z3lGEabvBRtaVlZNxbcG0/dtOSfXll8vwtOlJ80otyctE5SlrJvprsuqSSvojv7jUb4zNLZXU1uto9rDBZ7gQ7OAzK%2BcknawHXjGas6dr1/qF9bG6EL2eotOIIPKO5UTOHLE4IYDpj%2BIV5fJ4g/b3l1FdWk/ZR%2BCxuUGFlPx31bI4I/6Ffrgnn3qDTdV/b80u6N3D%2BzH8H3IVlhST496sVhVjkqg/4RbgEgevQCvGo5HxFh8fGUa96bnd2k0uVNWbi01rC9P2cLQT5ZO9lb0JV8NKm04627fr663eu6PU9a%2BEHwt8QsZNX%2BH%2Bkyuesy2SJJ/wB9KA361m/8KJ8LWX/Is%2BIvEejDsmm%2BIJ9n/fEjOv4Yrxib45ft2eMvjLrfwOtv2aPhnY6r4Y8MaTrt1eWvx%2B1SOCWDUrjUreFFP/CMEs6tpU5YMoAEkeCxLBev0zxZ/wAFELCxjs5/2bvg/dMgOZ5/jxqu9%2BSeceFgPbp2r1Z5Ll2JzKcauXQUbXVVOCcnpdNQVOpF76uTTt5o4JUaDgpXV%2B1mvx2O4/4V98UNO40P433boPux6vo1vcfmyCNv1o2/tC6fwJPCGpqvdlubR2/LzBmuO/4Tj/goX/0a/wDBn/w/Grf/ADL0f8Jx/wAFC/8Ao1/4M/8Ah%2BNW/wDmXro/1ew0P4FatT/w1ptfdP2iMvZro39//DnY/wDCcfF6y/5CXwSMwH3n0zxDBJn3CyiM0f8AC5ZLbjV/hP4xtSPvMujidR%2BMLvXHf8Jx/wAFC/8Ao1/4M/8Ah%2BNW/wDmXrl9W/aO/bt0f4z6B8Drj9lD4SNqniLwvq%2Bu2dynx11TyI4NOudNt5kcnwxuDs2qQFQFIISTJUhQx/ZebU/4WPn/ANv06M/yVNhyz6S/I9a/4aC%2BF0Xy6nq17YN3XUNGuocfUtHj9a2vCnxE8DeOWlTwh4ps9QaFQ0yW0wZkB6EjqK8z/wCE4/4KF/8ARr/wZ/8AD8at/wDMvTE8X/8ABQKKVp4/2V/gsruPmdfjrqoJ%2Bp/4Rat8NRz2nXXt69OcOtqcoy%2BTVSUfvQ0qierX3f8ABPQ/HvjbUvDskFj4f0%2BO6uDNAbvzQ2yGGSURgnH8TEkKPbnioPiDrkNrcNYW/hSw1OSCwkvb0X%2BAqQJkYX5Gy5wcA4HHJFeT%2BLtL/bY8azRXmt/sh/BB7mOaJ/tf/C8NU81ljcMELHwtnacYI9CcVB4lg/4KL%2BICJIvgH8G7eSaxksb%2BRfjbqjGe2c52r/xTACMASA3ONx4NedjaXEXNiXTd1Jx5OVq6SUrq01ZNvkbbck1zWtZJxOM5Jp6r%2Bu5395pfwn1rVo4rj4H%2BHrqwa4t7e5vbrTbcuksyBkAQxkMo3KGO4EE8A8mqWj/Cn9nDxbqkVnN%2Bz34bt4L6KWXS7tdHtlF2kbAOQqKCn3geeoNeSfF74k/t5fBewtPHGt/s1/CKXRb7xv4d0/8Asyy%2BNeqNN9tv9Qs9Jtm8xvDaqIVmuYZZBtLYRyueEPU%2BF7X/AIKHeHrvTZZ/2d/gvcQ6PYTWmnRL8btXRlSRkJLt/wAIydzARqMgL3PfjlpYXPJYqPtqcXDm1vGla17O2l1Dl1j9rn0ehyywOFqP36UH6xh/8ieiS/shfs0ytv8A%2BFO6Qh9YY2j/APQWFN/4ZB/Z2H%2Bq%2BHnl/wDXHVrtP/QZRXF%2BLrv/AIKIeLIoI4fgZ8MdJMDMd%2BkftA6pGZM44bd4UbIGOPqaw/8AhHP%2BCk0f%2Bo8F%2BCB/10/aAvW/n4Pr0MVSnRruNLLo1I/zKVGN/wDt2STVttyJZTll9MND/wABiv0R6h/wyL8Ah9zwpqCf9c/FGor/ACuKP%2BGRvgT28P6wPp4w1T/5Jry/%2Bxv%2BCnS/6vwh8PR/vfHO7b/3UK5f42/EL/gpN8B/gx4u%2BOPinwJ4DutL8GeGL/XdStbD403DXE1vaW0lxIkYfwmqlysZChmUZIyQOa5%2Bav8A9Cp/%2BB0P/kkT/ZWW/wDQNH7onvH/AAyN8CO/h3Vz9fF%2BqH/25o/4ZE%2BAHR/B96//AF08S6g38568v/sr/gqGfveE/hz%2BHxtuh/7qNH9if8FNm/1vg/4fn/c%2BOt2v/uoUc1d7ZU//AAOh/wDJMP7Ky3/oGj90T1D/AIZA/Zyb/W/DSGX/AK76hcyf%2BhSmpbf9kj9mm1OY/gxobH/pra7/AP0ImvKv%2BEZ/4KQvzP4I8FN7J%2B0LfJ/LwhR/wiP/AAULf/X/AA18Gv8A93K6sn/oHhQUL650yqPzqUP/AJBjWVZatsLD/wABh/8AIs9ms/2cv2frDBtvgj4UBHRm8P27H8yhNa9j8MPhppeP7M%2BHmhW%2BOnkaRCmPyWvAv%2BEG/brk/wCP34IeBbn1E/7UHiD%2BnhkVy/wRvf2m/j38GPCHxy0H9jv4aDTfGfhfT9d0631n9pPX2nit7u2juI0lVfDzIHCyAMFLDIOCRzW0ZZyv4eApR9asf/bKDN4YTD0/gowXoor8oH10iaVo8O1Ft7WMdgFRf6VQvfiB4D03P9o%2BNtIt8dfP1KJMfm1fP8Hw2/ajgfzB%2Bw18CJG9bj46avKf/H/DBrTstG/a/wBOwbD9hz9n2EjvH8Y9QB/P/hFa2U%2BJ5bU6EPWdWX5QgdK9olZJL7z1a8%2BPXwasm2SfEjSpD2FvciUn6bM5qA/HzwBccaNFrWpN2XT/AA9dyZ%2Bh8sA/nXD2fib9vnT122H7J/wSgHpD8c9VX%2BXhap/%2BE4/4KF/9Gv8AwZ/8Pxq3/wAy9H1fiWp8WIpR/wANKUvxnVX4oLVe6%2B7/AIJ2P/C3NavPk0T4M%2BLJ2PQ3VrDaqfxllBH5Uf8ACWfG3UPk0/4R2FlnpJqniNTj6rDG/wDOvJvAP7R37dvxE8V%2BN/CGj/sofCSG48B%2BKItC1WS5%2BOuqBJ55NK0/Uw8W3wwSU8nUYVJYKd6OMYAZuo/4Tj/goX/0a/8ABn/w/Grf/MvR/ZWZ1P4uPqf9uQpQ/wDbJv8AEOST3l%2BR2P8AZ/7QOpfJdeJfC2lKe9nps904/GSRAfyrX8I%2BGvGGjXct34p%2BIlxrPmR7UgbTobeOI5zuAQbie3LGvN/%2BE4/4KF/9Gv8AwZ/8Pxq3/wAy9H/Ccf8ABQv/AKNf%2BDP/AIfjVv8A5l63w%2BS4ehWjWlVqzktuerNr/wABXLB/OLGoJO93953vjf4Yx%2BL7t9Sh8S6jZzsLfCQXG2L9zIXQkKA2QWbGGGCc1F8QPCX9o6e90b%2Bf7ZNG9oqWu1BcwMSTBIGD5ULuJYYb7xBGTXn174p/4KI3dzbzx/s5fCCBYHLPFD8eNU2zezZ8Kk4%2BmOtcsPjp%2B234y%2BMeufAm5/ZJ%2BEral4a8NaRr9zcv8edWW3eDUbjU7aFEK%2BGdxdW0ycuCoXEkeCxLBfNzPJFi8LjIYeioVKlkpOeknb4klzcrjzSSvHV62cW09qcKEakZT1XVa/5r8LHteq%2BFLC9bTvGGhaVMt2zQvIbV13FDHtDbZD5ZcKQocjcF4BqC5/sk3UmpWrtZObKWQyDEbvcwyYcybMCRu3ORjp1rzzT9S/b907Sk0a3/AGZvhAsCJtVYvj7q8ZHJOQU8LAg8461PHrv7ekVolj/wyd8FHijfeiy/HbVnw2c7st4XJJz3614lfhfM8cud8lOU4wc1duPtYxSbjycsoptylKSacnGGmjOynXw1F%2B6r2btok7Pve%2BttPS56DEJBqqNJbFNRl1SKeNxEcvbsi7wWx91RvGCeqium1Szur%2Bwe0tNTltJGxi4hVSyjPONwI5HH415F/wAJx/wUKHT9l74M/wDh%2BNW/%2BZej/hOP%2BChf/Rr/AMGf/D8at/8AMvX0WVcPU8uw9ejOo5xq72vB7Su24yT53zO804t2j1jd41cS6koyStb5/n00216kP7SNo1j8Yv2bbR7ua4MfxkvgZp2Bd/8AiivFHJIAGfwr2yvlf4n%2BJf2rdX/aT/Z0tfjX8F/h74f0cfFzUWjvvC3xOvtYuTP/AMIX4m2oYJ9FslCEFiX80kEAbDklfqivepUoUaUacFZRSS3eiVlq22/Vtvu29TnbcndhRRRWggooooAKKKKACiiigAqj4o8Q2HhLw1qPivVQ5tdMsZru5ES5by40LtgdzhTV6o7u0tb%2B1lsb23SaGaNo5opVDK6kYKkHggjjFAHzf%2Bxr%2B1L8fPip4w0bwr8f9N8JI/jf4T6d8QPC6%2BE9Pubf%2By7e4lCT6ZdNPcTC6khE1ptu4xAspeX9xFsG7yuw/wCCj3xl%2BHXwwPxp8S/D/wAGXXhvx38L/Ffjr4Z6BoWnXFjc2Utje2gt7TUrh55UuXvF1OGeSeKGDyXSZSk25Xr3n4AfsL%2BEP2dNVt9X8J/GXx1qcunaLp2gaGNfudOuBpXh%2ByeV4NGhK2SE2%2BZfnmkL3kgii33LeWuMbSf%2BCZ3wGtrTxB4e8SeKvFuv%2BHtW8Ja54Y0Pwxq2o2y2nhbSdXuEuL%2B105re3inQPJDblHnlnkhW2iSJ41XaQDpv2ZPi58Y/Efj7x/8AAv4/3fhnUPE3gW60yZdc8IaPcadY6hY39p5sTfZri5uXhlSWK5iYec4ZY45Bs3mNPYq87%2BAH7OelfAY%2BIdYuPiR4m8aeIvFeow3fiDxZ4wkszfXfkW0dtBFtsra2t44o4owFWOJcs8jtueR2b0SgAr5d%2BA37Y3xt%2BIHxi8LSeNtM8LL4D%2BJmteLtM8FWel6bcxarpcmi3csUMl5cPcvFdLd29tczFY4YDbt5ceZ8mQfUVeGeDv2DPA3gL4kzfEbwv8XfG8AtrrWbrwpoTz6dLYeFp9WvVvNSlsUeyLs08ocf6S84hSaWOAQq%2BKAKeufFT44/Dz9tTwj8M9a1HwDrulfERtTRdI0PwvdW2u6Do9hazTxajd3r3ksd1bi6eK1KC3gCzapHsZsPuyP%2BCcP7U/xd/aP8C%2Bd%2B0X4n0Sy8d/8ACM6Rqus/Dy3%2BE%2Bt%2BFL7w411HKZFkXV7uZ9RgMqPFHdQJHEWtpeXJwnW%2BBv2NP%2BEB/aU8WftL6d%2B0p8Qru98aTqdZ8PalFoc1itvFbvDa2UMv9mC9gtbcyPNHClyF855JH3mWXzNj4N/sv23wt%2BIuqfF/xb8afGXxB8U6lolvoya34yOmxvZ6fDLJMLeGLTbK0gUNLKzu7RtIxCAvtRVAB6jRRRQB8u/tNftjfG34V/FPxi/w80zws3g34TaL4b1Px3bazptzNqOsR6pfXEU0djNHcxx2jW1rb%2BeGkiuBPJKIsQhTIZv2yP2lfiZ8Cv2hfB1nbav4e8JeBpPCOpXniX4i%2BI/hFrPiK202Rb2wRbSW9sLu3g0iGSNpZXnu28r/AEZSeErtvjP%2BxD8OPjd8Uj8TNc8c%2BKtLi1G10i18X%2BGtGurVNO8UwaXeyXtjFfLLbyTBY5ppc/Z5YDLHIYpjLGFQT/HT9km6/aE8Ey/DHx5%2B0t8Q4vDGqaPcaT4u0HTF0WGLxJZTlxNDcy/2aZ4Q0TtAWtJLdvLPXf8APQB55qX7Y3xttf2gLuWDTPC3/CsdP%2BM1n8NLmwfTbk63LeXGmwTjU1uvtPkLEt5cxW32U25Yxq8/ng4hr6irxe4/Yd%2BGs/x7/wCF4Dxt4pjtH8Uw%2BKJ/AcdzaDQ5tei05dOi1Nk%2BzfafNW2SMCIXAt/MiSYwmUeZXtFABXz1%2B15%2B0T%2B0B4D%2BIEHwu/ZwtfCK6np/w113xvrNx4y025uobqCwktYodNhFvcQGCS4e4kzdMZVgEI/cTGTC/QteR/tL/seeD/2mdQsta1H4k%2BL/AAjqFv4f1Pw/faj4NvLWGbUtF1DyDeafMbm2nCxyNbQsJYhHcRFCYpo977gDmv2nPjv4yg/Yr/4a6%2BF/izwnoejab4LHjK8s/GvgO415rqFLVL22ggit9SsjHc%2BYECHMhMmwKobBrhr39rH9q34ffHXwH8NP2htc8H%2BCNIu/h94QvPFuu/8ACode1HS9R8S6he3ttqOlW%2BrRX62ekBWgtEg%2B2GZi97H/AK3hD7j48/Zh8F/Ef4aWXwf8T%2BJNZbw5p3ijSdXtNKtRaQxrDpt5b3drphCW43WQktYgyNmR0BRpCrEVU%2BOn7LUH7QWuWyeNvjf41t/CSzWM2p/D3TDpkelarJa3K3MZnlaya%2BAaRI96RXUaOsYUrhnDgHqlFFFAHi//AAUF%2BLvxw/Z%2B/ZH8afHr4BXvhSPWPBOhXeuXUHjDRbm%2Btru0tbaWZ7dEtrq2ZJXZEUSFyqAsSj8Crv7YPxP8XeBPB3hrwL8PdM0G4174j%2BMrXwppsvirTZL3TLVZ4Z7i5mubaOWFrlFtLW5xCJY/McopdQSRqftY/s42X7WnwI179n3Wvir4p8I6T4nspbHXL/wgunfa7mylieKa23X9pdRojq/LIiyAqNrrznO8b/srSfEr4dWfgjx5%2B0F461HU9J1PTtU0DxiYtHg1PSdSsySt5CINOS2Z5AzrIksEkLJI6eWFYqQDwST9u79q3xlof/CGfDPRvAFt428J6F461Lxxc6zpF7NpupP4c1gaVHbWUcd2kloL5t04mkkuPsigIY7kncPrb4X%2BPdM%2BKnw08O/E/RLaWGy8SaFaapaQz43pFcQpKitjuA4B968Q8Q/8E0vhPrHgXSfB%2BjfFz4gaDeWem%2BIdO13xPoupWK6l4ktNdu1vdYivXls3jBubpRN5ltHBLA2RbvApKn6C0PRNI8M6JZ%2BG/D%2BnxWlhp9rHbWVpAu1IYY1CoijsAoAA9BQBarmvjFJ8TYfhlrE/wc1rQdO8SxWu/TL3xNpU19YxFWBcywQT28ko8sPhVlj%2BYrlsZrpawviZ4O1T4g%2BA9T8F6N8QdZ8K3Go2/kp4g8Pw2cl5ZgkFmiW9t7i3JIBU%2BZC4wxwAcEAHBfAT4o/GD9ob9iP4f/Gvw/c%2BGtH8a%2BOPhxomuNLeaVcXGl2d5eWUFxKfsy3CTSRKZH2x%2BerEBQZOrV4Be/tmftRaD8HNPXwHpHhW6g0f453fgTUPHng74Na7r%2BjyaFZ6JdXL6jaaJpt611GsWowppLkXMsSSwStnaVC%2BxeEv2Gp/Bn7JafseaT%2B1v8V10G18EJ4V0rX4Z9EttY02xjRIonguLbS41WZIEEKylCdpLnMuJRo%2BD/2RvE3w9%2BCGk/A3wD%2B158RtEtdCuEXSdX0vRPCsNxa2CW6wR6akK6J9jW2TaHUi384McebswgAPQvg743034lfCfw18QNI8caR4mt9Z0O1u08Q%2BH7Rrex1IvErG4gieWVoY3JLLG0kjICFZ2IJPSVy/wV%2BEPg34B/CnQfg58P4rldI8PaelpZtfXLTTygZLSyyNy8jsWdm7sxOB0rqKACvF/wBjn4u/HD4lXXxS8HfH698KXes/D/4mN4etr7wfotzYWtxato2lakhaK5urlzIrag8ZcOFcRqwRMkV7RXi/wJ/Y81j4E%2BNPF/jW0/ay%2BJXiOTxx4rh8Qa9Y%2BIbTw6IHu0tbezIT7JpEDpG9vaW0TAPnEIZSrs7MAeGeCP2//ir4N%2BG/xi%2BInxeg8NW3i7w1pfiDWNE%2BGDfCjWvDN9fx2V%2B%2Bn2V42pX91JFq1vJGunrJc2sOyL7TFyBsQ%2B8/syfFz4x%2BI/H3j/4F/H%2B78M6h4m8C3WmTLrnhDR7jTrHULG/tPNib7NcXNy8MqSxXMTDznDLHHINm8xpma5%2BwR4G%2BImq%2BINV%2BPXxg8c/EM654J1fwlaQeJJ9Otk0XSdTkge9htP7NsrU%2BY5tLTE8xlmT7Mm11Jct2PwA/Zz0r4DHxDrFx8SPE3jTxF4r1GG78QeLPGElmb678i2jtoIttlbW1vHFHFGAqxxLlnkdtzyOzAHolFFFAHi/wV%2BLvxw1r9rj4s/AX4qXvhS60fwxoXh7XPCE/h/Rbm1uYrTUrnWYfs94811MtxKi6ZE3mRpAuZXGw4Brn/EnxE/aW8K/t%2BeC/hBpnir4c6r4c8XaRrGseIbOD4fXlvrOl6DpyJFb79R/tV4pZDqGo26qrWiqyNdFVUqTXQaL%2Bx5rGgftF%2BMP2ktO/ay%2BJQ1DxnpVlpl7oT2nh06fZ2lnPdTWkUA/sjzx5RvbpQ0k0jMsx3lyqFe00v4F%2BFdL%2BOHiX9oFNW1ObX/EnhjTdAbz5ozDp1lZS3cyLbKIwUZ5b2V5GYvvKRDgRqAAeO/8ABOH9qf4u/tH%2BBfO/aL8T6JZeO/8AhGdI1XWfh5b/AAn1vwpfeHGuo5TIsi6vdzPqMBlR4o7qBI4i1tLy5OE%2Blq8u%2BDf7L9t8LfiLqnxf8W/Gnxl8QfFOpaJb6Mmt%2BMjpsb2enwyyTC3hi02ytIFDSys7u0bSMQgL7UVR6jQAV4P%2B1r8Zv2gvgN4k8L%2BLvBniDwRe%2BHta8XaF4dtvAt94cvJNc1y5vb5YblrS9jvVihMFq0l1sa0mHl2kzO8aAvH7xXjPxJ/Y5X4iftO6J%2B1Nb/tHfEDQtV8P6GNK0zQNMh0S40uCB5vNuWjS%2B0y4mhluQI45pYpUdo4Y0VkA5AOF/bY/ah%2BM3wt8ZeILP4NeHPB10nwn%2BFN18SvEw8WaVPczajCrXUMWn2EkVxCLGeWG11BTduJ1TdGvkuruRVj/AG2fjFqHxrOvaVp3hc/CuL4vWHw6exl0u5/tyW5u9Mt7hdUW5%2B0%2BSkS3l1FbG1NuWMavN54OIa7j46fsI%2BCv2g2im8bfGDxxbTXfhe78MeL59IuNOgbxXoVzMJZNMvh9iKrF99Fkthbzok0oWUeY5Nqf9hz4aTfHr/hd6%2BNfFEVo3imHxRP4CiubQaHNr0OnLp0Wpsn2b7SJVtkjAiFwLfzIkmMJlHmUAe0UUUUAFFFFABRRRQAUUUUAFFFFABRRRQAUUUUAFFFFABRRRQAUUUUAFFFFABRRRQAUUUUAFFFFABRRRQAUUUUAFFFFABRRRQAUUUUAFFFFABRRRQAUUUUAFFFFABRRRQAUUUUAFFFFABRRRQAUUUUAFFFFAH//2Q%3D%3D\">"
      ]
     },
     "metadata": {},
     "output_type": "display_data"
    }
   ],
   "source": [
    "try:\n",
    "    HTML(anim.to_html5_video())\n",
    "# In case the build-in renderers are unaviable, fall back to\n",
    "# a custom one, that doesn't require external libraries\n",
    "except RuntimeError:\n",
    "    anim.save(None, writer=matplotlib_utils.SimpleMovieWriter(0.001))"
   ]
  },
  {
   "cell_type": "markdown",
   "metadata": {},
   "source": [
    "# Logistic regression\n",
    "Your assignment is to implement the logistic regression\n",
    "\n",
    "Plan:\n",
    "* Use a shared variable for weights\n",
    "* Use a matrix placeholder for `X`\n",
    " \n",
    "We shall train on a two-class MNIST dataset\n",
    "* please note that target `y` are `{0,1}` and not `{-1,1}` as in some formulae"
   ]
  },
  {
   "cell_type": "code",
   "execution_count": 32,
   "metadata": {},
   "outputs": [
    {
     "name": "stdout",
     "output_type": "stream",
     "text": [
      "y [shape - (360,)]: [0 1 0 1 0 1 0 0 1 1]\n",
      "X [shape - (360, 64)]:\n"
     ]
    }
   ],
   "source": [
    "from sklearn.datasets import load_digits\n",
    "mnist = load_digits(2)\n",
    "\n",
    "X, y = mnist.data, mnist.target\n",
    "\n",
    "print(\"y [shape - %s]:\" % (str(y.shape)), y[:10])\n",
    "print(\"X [shape - %s]:\" % (str(X.shape)))"
   ]
  },
  {
   "cell_type": "code",
   "execution_count": 33,
   "metadata": {},
   "outputs": [
    {
     "name": "stdout",
     "output_type": "stream",
     "text": [
      "X:\n",
      " [[  0.   0.   5.  13.   9.   1.   0.   0.   0.   0.]\n",
      " [  0.   0.   0.  12.  13.   5.   0.   0.   0.   0.]\n",
      " [  0.   0.   1.   9.  15.  11.   0.   0.   0.   0.]]\n",
      "y:\n",
      " [0 1 0 1 0 1 0 0 1 1]\n"
     ]
    },
    {
     "data": {
      "image/png": "[encoded data removed]",
      "text/plain": [
       "<matplotlib.figure.Figure at 0x7f5e83f3ef28>"
      ]
     },
     "metadata": {},
     "output_type": "display_data"
    }
   ],
   "source": [
    "print('X:\\n',X[:3,:10])\n",
    "print('y:\\n',y[:10])\n",
    "plt.imshow(X[0].reshape([8,8]));"
   ]
  },
  {
   "cell_type": "markdown",
   "metadata": {},
   "source": [
    "It's your turn now!\n",
    "Just a small reminder of the relevant math:\n",
    "\n",
    "$$\n",
    "P(y=1|X) = \\sigma(X \\cdot W + b)\n",
    "$$\n",
    "$$\n",
    "\\text{loss} = -\\log\\left(P\\left(y_\\text{predicted} = 1\\right)\\right)\\cdot y_\\text{true} - \\log\\left(1 - P\\left(y_\\text{predicted} = 1\\right)\\right)\\cdot\\left(1 - y_\\text{true}\\right)\n",
    "$$\n",
    "\n",
    "$\\sigma(x)$ is available via `tf.nn.sigmoid` and matrix multiplication via `tf.matmul`"
   ]
  },
  {
   "cell_type": "code",
   "execution_count": 34,
   "metadata": {
    "collapsed": true
   },
   "outputs": [],
   "source": [
    "from sklearn.model_selection import train_test_split\n",
    "X_train, X_test, y_train, y_test = train_test_split(\n",
    "    X, y, random_state=42)"
   ]
  },
  {
   "cell_type": "markdown",
   "metadata": {},
   "source": [
    "__Your code goes here.__ For the training and testing scaffolding to work, please stick to the names in comments."
   ]
  },
  {
   "cell_type": "code",
   "execution_count": 38,
   "metadata": {},
   "outputs": [
    {
     "name": "stdout",
     "output_type": "stream",
     "text": [
      "<tf.Variable 'weights_2:0' shape=(64, 1) dtype=float32_ref>\n",
      "<tf.Variable 'b_1:0' shape=() dtype=float32_ref>\n"
     ]
    }
   ],
   "source": [
    "# Model parameters - weights and bias\n",
    "# weights = tf.Variable(...) shape should be (X.shape[1], 1)\n",
    "# b = tf.Variable(...)\n",
    "weights = tf.Variable(initial_value = np.random.randn(X.shape[1], 1)*0.01, name= \"weights\", dtype=\"float32\")\n",
    "b = tf.Variable(initial_value = 0,  name=\"b\", dtype = \"float32\")\n",
    "print(weights)\n",
    "print(b)"
   ]
  },
  {
   "cell_type": "code",
   "execution_count": 50,
   "metadata": {},
   "outputs": [
    {
     "name": "stdout",
     "output_type": "stream",
     "text": [
      "Tensor(\"Placeholder_7:0\", dtype=float32)\n",
      "Tensor(\"Placeholder_8:0\", dtype=float32)\n"
     ]
    }
   ],
   "source": [
    "# Placeholders for the input data\n",
    "# input_X = tf.placeholder(...)\n",
    "# input_y = tf.placeholder(...)\n",
    "input_X = tf.placeholder(tf.float32)\n",
    "input_y = tf.placeholder(tf.float32)\n",
    "print(input_X)\n",
    "print(input_y)"
   ]
  },
  {
   "cell_type": "code",
   "execution_count": 78,
   "metadata": {},
   "outputs": [
    {
     "name": "stdout",
     "output_type": "stream",
     "text": [
      "Tensor(\"Squeeze_2:0\", dtype=float32)\n",
      "Tensor(\"Neg_6:0\", dtype=float32)\n",
      "name: \"GradientDescent\"\n",
      "op: \"NoOp\"\n",
      "input: \"^GradientDescent/update_weights_2/ApplyGradientDescent\"\n",
      "input: \"^GradientDescent/update_b_1/ApplyGradientDescent\"\n",
      "\n"
     ]
    }
   ],
   "source": [
    "# The model code\n",
    "\n",
    "# Compute a vector of predictions, resulting shape should be [input_X.shape[0],]\n",
    "# This is 1D, if you have extra dimensions, you can  get rid of them with tf.squeeze .\n",
    "# Don't forget the sigmoid.\n",
    "# predicted_y = <predicted probabilities for input_X>\n",
    "predicted_y = tf.squeeze(tf.nn.sigmoid(tf.add(tf.matmul(input_X, weights), b)))\n",
    "print(predicted_y)\n",
    "# Loss. Should be a scalar number - average loss over all the objects\n",
    "# tf.reduce_mean is your friend here\n",
    "# loss = <logistic loss (scalar, mean over sample)>\n",
    "loss = -tf.reduce_mean(tf.log(predicted_y) *input_y + tf.log(1-predicted_y) * (1- input_y))\n",
    "print(loss)\n",
    "# See above for an example. tf.train.*Optimizer\n",
    "# optimizer = <optimizer that minimizes loss>\n",
    "optimizer = tf.train.GradientDescentOptimizer(0.01).minimize(loss)\n",
    "print(optimizer)"
   ]
  },
  {
   "cell_type": "markdown",
   "metadata": {},
   "source": [
    "A test to help with the debugging"
   ]
  },
  {
   "cell_type": "code",
   "execution_count": 79,
   "metadata": {},
   "outputs": [],
   "source": [
    "validation_weights = 1e-3 * np.fromiter(map(lambda x:\n",
    "        s.run(weird_psychotic_function, {my_scalar:x, my_vector:[1, 0.1, 2]}),\n",
    "                                   0.15 * np.arange(1, X.shape[1] + 1)),\n",
    "                                   count=X.shape[1], dtype=np.float32)[:, np.newaxis]\n",
    "# Compute predictions for given weights and bias\n",
    "prediction_validation = s.run(\n",
    "    predicted_y, {\n",
    "    input_X: X,\n",
    "    weights: validation_weights,\n",
    "    b: 1e-1})\n",
    "\n",
    "# Load the reference values for the predictions\n",
    "validation_true_values = np.loadtxt(\"validation_predictons.txt\")\n",
    "\n",
    "assert prediction_validation.shape == (X.shape[0],),\\\n",
    "       \"Predictions must be a 1D array with length equal to the number \" \\\n",
    "       \"of examples in input_X\"\n",
    "assert np.allclose(validation_true_values, prediction_validation)\n",
    "loss_validation = s.run(\n",
    "        loss, {\n",
    "            input_X: X[:100],\n",
    "            input_y: y[-100:],\n",
    "            weights: validation_weights+1.21e-3,\n",
    "            b: -1e-1})\n",
    "assert np.allclose(loss_validation, 0.728689)"
   ]
  },
  {
   "cell_type": "code",
   "execution_count": 82,
   "metadata": {},
   "outputs": [
    {
     "name": "stdout",
     "output_type": "stream",
     "text": [
      "loss at iter 0:1.8692\n",
      "train auc: 0.999011857708\n",
      "test auc: 1.0\n",
      "loss at iter 1:1.7656\n",
      "train auc: 0.998407992973\n",
      "test auc: 0.997529644269\n",
      "loss at iter 2:0.3291\n",
      "train auc: 1.0\n",
      "test auc: 1.0\n",
      "loss at iter 3:0.0150\n",
      "train auc: 1.0\n",
      "test auc: 1.0\n",
      "loss at iter 4:0.0133\n",
      "train auc: 1.0\n",
      "test auc: 1.0\n"
     ]
    }
   ],
   "source": [
    "from sklearn.metrics import roc_auc_score\n",
    "s.run(tf.global_variables_initializer())\n",
    "for i in range(5):\n",
    "    s.run(optimizer, {input_X: X_train, input_y: y_train})\n",
    "    loss_i = s.run(loss, {input_X: X_train, input_y: y_train})\n",
    "    print(\"loss at iter %i:%.4f\" % (i, loss_i))\n",
    "    print(\"train auc:\", roc_auc_score(y_train, s.run(predicted_y, {input_X:X_train})))\n",
    "    print(\"test auc:\", roc_auc_score(y_test, s.run(predicted_y, {input_X:X_test})))"
   ]
  },
  {
   "cell_type": "markdown",
   "metadata": {},
   "source": [
    "### Coursera submission"
   ]
  },
  {
   "cell_type": "code",
   "execution_count": 83,
   "metadata": {
    "collapsed": true
   },
   "outputs": [],
   "source": [
    "grade_submitter = grading.Grader(\"BJCiiY8sEeeCnhKCj4fcOA\")"
   ]
  },
  {
   "cell_type": "code",
   "execution_count": 84,
   "metadata": {
    "collapsed": true
   },
   "outputs": [],
   "source": [
    "test_weights = 1e-3 * np.fromiter(map(lambda x:\n",
    "    s.run(weird_psychotic_function, {my_scalar:x, my_vector:[1, 2, 3]}),\n",
    "                               0.1 * np.arange(1, X.shape[1] + 1)),\n",
    "                               count=X.shape[1], dtype=np.float32)[:, np.newaxis]"
   ]
  },
  {
   "cell_type": "markdown",
   "metadata": {},
   "source": [
    "First, test prediction and loss computation. This part doesn't require a fitted model."
   ]
  },
  {
   "cell_type": "code",
   "execution_count": 85,
   "metadata": {
    "collapsed": true
   },
   "outputs": [],
   "source": [
    "prediction_test = s.run(\n",
    "    predicted_y, {\n",
    "    input_X: X,\n",
    "    weights: test_weights,\n",
    "    b: 1e-1})"
   ]
  },
  {
   "cell_type": "code",
   "execution_count": 86,
   "metadata": {
    "collapsed": true
   },
   "outputs": [],
   "source": [
    "assert prediction_test.shape == (X.shape[0],),\\\n",
    "       \"Predictions must be a 1D array with length equal to the number \" \\\n",
    "       \"of examples in X_test\""
   ]
  },
  {
   "cell_type": "code",
   "execution_count": 87,
   "metadata": {
    "collapsed": true
   },
   "outputs": [],
   "source": [
    "grade_submitter.set_answer(\"0ENlN\", prediction_test)"
   ]
  },
  {
   "cell_type": "code",
   "execution_count": 88,
   "metadata": {
    "collapsed": true
   },
   "outputs": [],
   "source": [
    "loss_test = s.run(\n",
    "    loss, {\n",
    "        input_X: X[:100],\n",
    "        input_y: y[-100:],\n",
    "        weights: test_weights+1.21e-3,\n",
    "        b: -1e-1})\n",
    "# Yes, the X/y indices mistmach is intentional"
   ]
  },
  {
   "cell_type": "code",
   "execution_count": 89,
   "metadata": {
    "collapsed": true
   },
   "outputs": [],
   "source": [
    "grade_submitter.set_answer(\"mMVpM\", loss_test)"
   ]
  },
  {
   "cell_type": "code",
   "execution_count": 90,
   "metadata": {
    "collapsed": true
   },
   "outputs": [],
   "source": [
    "grade_submitter.set_answer(\"D16Rc\", roc_auc_score(y_test, s.run(predicted_y, {input_X:X_test})))"
   ]
  },
  {
   "cell_type": "markdown",
   "metadata": {},
   "source": [
    "Please use the credentials obtained from the Coursera assignment page."
   ]
  },
  {
   "cell_type": "code",
   "execution_count": 91,
   "metadata": {},
   "outputs": [
    {
     "name": "stdout",
     "output_type": "stream",
     "text": [
      "Submitted to Coursera platform. See results on assignment page!\n"
     ]
    }
   ],
   "source": [
    "grade_submitter.submit(\"....\", \"...\")"
   ]
  },
  {
   "cell_type": "code",
   "execution_count": null,
   "metadata": {
    "collapsed": true
   },
   "outputs": [],
   "source": []
  }
 ],
 "metadata": {
  "kernelspec": {
   "display_name": "Python 3",
   "language": "python",
   "name": "python3"
  },
  "language_info": {
   "codemirror_mode": {
    "name": "ipython",
    "version": 3
   },
   "file_extension": ".py",
   "mimetype": "text/x-python",
   "name": "python",
   "nbconvert_exporter": "python",
   "pygments_lexer": "ipython3",
   "version": "3.6.0"
  }
 },
 "nbformat": 4,
 "nbformat_minor": 1
}
