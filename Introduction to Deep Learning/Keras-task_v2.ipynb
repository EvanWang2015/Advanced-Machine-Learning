{
 "cells": [
  {
   "cell_type": "markdown",
   "metadata": {},
   "source": [
    "# Getting deeper with Keras\n",
    "* Tensorflow is a powerful and flexible tool, but coding large neural architectures with it is tedious.\n",
    "* There are plenty of deep learning toolkits that work on top of it like Slim, TFLearn, Sonnet, Keras.\n",
    "* Choice is matter of taste and particular task\n",
    "* We'll be using Keras"
   ]
  },
  {
   "cell_type": "code",
   "execution_count": 1,
   "metadata": {
    "collapsed": true
   },
   "outputs": [],
   "source": [
    "import sys\n",
    "sys.path.append(\"..\")\n",
    "import grading"
   ]
  },
  {
   "cell_type": "code",
   "execution_count": 2,
   "metadata": {
    "collapsed": true
   },
   "outputs": [],
   "source": [
    "# use preloaded keras datasets and models\n",
    "! mkdir -p ~/.keras/datasets\n",
    "! mkdir -p ~/.keras/models\n",
    "! ln -s $(realpath ../readonly/keras/datasets/*) ~/.keras/datasets/\n",
    "! ln -s $(realpath ../readonly/keras/models/*) ~/.keras/models/"
   ]
  },
  {
   "cell_type": "code",
   "execution_count": 3,
   "metadata": {},
   "outputs": [
    {
     "name": "stderr",
     "output_type": "stream",
     "text": [
      "Using TensorFlow backend.\n"
     ]
    }
   ],
   "source": [
    "import numpy as np\n",
    "from preprocessed_mnist import load_dataset\n",
    "import keras\n",
    "X_train, y_train, X_val, y_val, X_test, y_test = load_dataset()\n",
    "y_train,y_val,y_test = map(keras.utils.np_utils.to_categorical,[y_train,y_val,y_test])"
   ]
  },
  {
   "cell_type": "code",
   "execution_count": 4,
   "metadata": {
    "scrolled": true
   },
   "outputs": [
    {
     "data": {
      "image/png": "[encoded data removed]",
      "text/plain": [
       "<matplotlib.figure.Figure at 0x7fc2968eaf60>"
      ]
     },
     "metadata": {},
     "output_type": "display_data"
    }
   ],
   "source": [
    "import matplotlib.pyplot as plt\n",
    "%matplotlib inline\n",
    "plt.imshow(X_train[0]);"
   ]
  },
  {
   "cell_type": "markdown",
   "metadata": {},
   "source": [
    "## The pretty keras"
   ]
  },
  {
   "cell_type": "code",
   "execution_count": 5,
   "metadata": {
    "collapsed": true
   },
   "outputs": [],
   "source": [
    "import tensorflow as tf\n",
    "s = tf.InteractiveSession()"
   ]
  },
  {
   "cell_type": "code",
   "execution_count": 27,
   "metadata": {
    "collapsed": true
   },
   "outputs": [],
   "source": [
    "import keras\n",
    "from keras.models import Sequential\n",
    "import keras.layers as ll\n",
    "\n",
    "model = Sequential(name=\"mlp\")\n",
    "\n",
    "model.add(ll.InputLayer([28, 28]))\n",
    "\n",
    "model.add(ll.Flatten())\n",
    "\n",
    "# network body\n",
    "model.add(ll.Dense(80))\n",
    "model.add(ll.Activation('relu'))\n",
    "\n",
    "model.add(ll.Dense(80))\n",
    "model.add(ll.Activation('relu'))\n",
    "\n",
    "model.add(ll.Dense(80))\n",
    "model.add(ll.Activation('relu'))\n",
    "\n",
    "\n",
    "model.add(ll.Dense(80))\n",
    "model.add(ll.Activation('relu'))\n",
    "\n",
    "\n",
    "model.add(ll.Dense(80))\n",
    "model.add(ll.Activation('relu'))\n",
    "\n",
    "model.add(ll.Dense(80))\n",
    "model.add(ll.Activation('relu'))\n",
    "\n",
    "# output layer: 10 neurons for each class with softmax\n",
    "model.add(ll.Dense(10, activation='softmax'))\n",
    "\n",
    "# categorical_crossentropy is your good old crossentropy\n",
    "# but applied for one-hot-encoded vectors\n",
    "model.compile(\"adam\", \"categorical_crossentropy\", metrics=[\"accuracy\"])"
   ]
  },
  {
   "cell_type": "code",
   "execution_count": 28,
   "metadata": {},
   "outputs": [
    {
     "name": "stdout",
     "output_type": "stream",
     "text": [
      "_________________________________________________________________\n",
      "Layer (type)                 Output Shape              Param #   \n",
      "=================================================================\n",
      "input_4 (InputLayer)         (None, 28, 28)            0         \n",
      "_________________________________________________________________\n",
      "flatten_4 (Flatten)          (None, 784)               0         \n",
      "_________________________________________________________________\n",
      "dense_19 (Dense)             (None, 80)                62800     \n",
      "_________________________________________________________________\n",
      "activation_16 (Activation)   (None, 80)                0         \n",
      "_________________________________________________________________\n",
      "dense_20 (Dense)             (None, 80)                6480      \n",
      "_________________________________________________________________\n",
      "activation_17 (Activation)   (None, 80)                0         \n",
      "_________________________________________________________________\n",
      "dense_21 (Dense)             (None, 80)                6480      \n",
      "_________________________________________________________________\n",
      "activation_18 (Activation)   (None, 80)                0         \n",
      "_________________________________________________________________\n",
      "dense_22 (Dense)             (None, 80)                6480      \n",
      "_________________________________________________________________\n",
      "activation_19 (Activation)   (None, 80)                0         \n",
      "_________________________________________________________________\n",
      "dense_23 (Dense)             (None, 80)                6480      \n",
      "_________________________________________________________________\n",
      "activation_20 (Activation)   (None, 80)                0         \n",
      "_________________________________________________________________\n",
      "dense_24 (Dense)             (None, 80)                6480      \n",
      "_________________________________________________________________\n",
      "activation_21 (Activation)   (None, 80)                0         \n",
      "_________________________________________________________________\n",
      "dense_25 (Dense)             (None, 10)                810       \n",
      "=================================================================\n",
      "Total params: 96,010\n",
      "Trainable params: 96,010\n",
      "Non-trainable params: 0\n",
      "_________________________________________________________________\n"
     ]
    }
   ],
   "source": [
    "model.summary()"
   ]
  },
  {
   "cell_type": "markdown",
   "metadata": {},
   "source": [
    "### Model interface\n",
    "\n",
    "Keras models follow __Scikit-learn__'s interface of fit/predict with some notable extensions. Let's take a tour."
   ]
  },
  {
   "cell_type": "code",
   "execution_count": 29,
   "metadata": {},
   "outputs": [
    {
     "name": "stdout",
     "output_type": "stream",
     "text": [
      "Train on 50000 samples, validate on 10000 samples\n",
      "Epoch 1/30\n",
      "50000/50000 [==============================] - 11s - loss: 0.3210 - acc: 0.8999 - val_loss: 0.1391 - val_acc: 0.9598\n",
      "Epoch 2/30\n",
      "50000/50000 [==============================] - 12s - loss: 0.1405 - acc: 0.9582 - val_loss: 0.1555 - val_acc: 0.9562\n",
      "Epoch 3/30\n",
      "50000/50000 [==============================] - 12s - loss: 0.1067 - acc: 0.9683 - val_loss: 0.1451 - val_acc: 0.9592\n",
      "Epoch 4/30\n",
      "50000/50000 [==============================] - 11s - loss: 0.0853 - acc: 0.9748 - val_loss: 0.1095 - val_acc: 0.9667\n",
      "Epoch 5/30\n",
      "50000/50000 [==============================] - 13s - loss: 0.0728 - acc: 0.9783 - val_loss: 0.0952 - val_acc: 0.9733\n",
      "Epoch 6/30\n",
      "50000/50000 [==============================] - 12s - loss: 0.0631 - acc: 0.9813 - val_loss: 0.1060 - val_acc: 0.9707\n",
      "Epoch 7/30\n",
      "50000/50000 [==============================] - 12s - loss: 0.0570 - acc: 0.9831 - val_loss: 0.1148 - val_acc: 0.9712\n",
      "Epoch 8/30\n",
      "50000/50000 [==============================] - 12s - loss: 0.0501 - acc: 0.9845 - val_loss: 0.1123 - val_acc: 0.9727\n",
      "Epoch 9/30\n",
      "50000/50000 [==============================] - 12s - loss: 0.0434 - acc: 0.9870 - val_loss: 0.1201 - val_acc: 0.9696\n",
      "Epoch 10/30\n",
      "50000/50000 [==============================] - 13s - loss: 0.0417 - acc: 0.9872 - val_loss: 0.1197 - val_acc: 0.9717\n",
      "Epoch 11/30\n",
      "50000/50000 [==============================] - 12s - loss: 0.0354 - acc: 0.9888 - val_loss: 0.1011 - val_acc: 0.9752\n",
      "Epoch 12/30\n",
      "50000/50000 [==============================] - 11s - loss: 0.0346 - acc: 0.9899 - val_loss: 0.1093 - val_acc: 0.9746\n",
      "Epoch 13/30\n",
      "50000/50000 [==============================] - 10s - loss: 0.0301 - acc: 0.9912 - val_loss: 0.1085 - val_acc: 0.9758\n",
      "Epoch 14/30\n",
      "50000/50000 [==============================] - 10s - loss: 0.0299 - acc: 0.9909 - val_loss: 0.1226 - val_acc: 0.9731\n",
      "Epoch 15/30\n",
      "50000/50000 [==============================] - 10s - loss: 0.0249 - acc: 0.9920 - val_loss: 0.1219 - val_acc: 0.9735\n",
      "Epoch 16/30\n",
      "50000/50000 [==============================] - 10s - loss: 0.0236 - acc: 0.9932 - val_loss: 0.1259 - val_acc: 0.9747\n",
      "Epoch 17/30\n",
      "50000/50000 [==============================] - 10s - loss: 0.0273 - acc: 0.9920 - val_loss: 0.1156 - val_acc: 0.9758\n",
      "Epoch 18/30\n",
      "50000/50000 [==============================] - 10s - loss: 0.0221 - acc: 0.9935 - val_loss: 0.1261 - val_acc: 0.9740\n",
      "Epoch 19/30\n",
      "50000/50000 [==============================] - 11s - loss: 0.0232 - acc: 0.9934 - val_loss: 0.1574 - val_acc: 0.9720\n",
      "Epoch 20/30\n",
      "50000/50000 [==============================] - 11s - loss: 0.0208 - acc: 0.9938 - val_loss: 0.1380 - val_acc: 0.9746\n",
      "Epoch 21/30\n",
      "50000/50000 [==============================] - 10s - loss: 0.0204 - acc: 0.9939 - val_loss: 0.1258 - val_acc: 0.9755\n",
      "Epoch 22/30\n",
      "50000/50000 [==============================] - 11s - loss: 0.0190 - acc: 0.9944 - val_loss: 0.1471 - val_acc: 0.9719\n",
      "Epoch 23/30\n",
      "50000/50000 [==============================] - 12s - loss: 0.0206 - acc: 0.9942 - val_loss: 0.1375 - val_acc: 0.9733\n",
      "Epoch 24/30\n",
      "50000/50000 [==============================] - 12s - loss: 0.0149 - acc: 0.9955 - val_loss: 0.1394 - val_acc: 0.9754\n",
      "Epoch 25/30\n",
      "50000/50000 [==============================] - 11s - loss: 0.0195 - acc: 0.9946 - val_loss: 0.1338 - val_acc: 0.9770\n",
      "Epoch 26/30\n",
      "50000/50000 [==============================] - 12s - loss: 0.0184 - acc: 0.9947 - val_loss: 0.1554 - val_acc: 0.9736\n",
      "Epoch 27/30\n",
      "50000/50000 [==============================] - 11s - loss: 0.0150 - acc: 0.9959 - val_loss: 0.1492 - val_acc: 0.9718\n",
      "Epoch 28/30\n",
      "50000/50000 [==============================] - 12s - loss: 0.0165 - acc: 0.9956 - val_loss: 0.1490 - val_acc: 0.9747\n",
      "Epoch 29/30\n",
      "50000/50000 [==============================] - 12s - loss: 0.0143 - acc: 0.9960 - val_loss: 0.1701 - val_acc: 0.9745\n",
      "Epoch 30/30\n",
      "50000/50000 [==============================] - 12s - loss: 0.0144 - acc: 0.9964 - val_loss: 0.1575 - val_acc: 0.9749\n"
     ]
    }
   ],
   "source": [
    "# fit(X,y) ships with a neat automatic logging.\n",
    "#          Highly customizable under the hood.\n",
    "model.fit(X_train, y_train,\n",
    "          validation_data=(X_val, y_val), epochs=30);"
   ]
  },
  {
   "cell_type": "code",
   "execution_count": 30,
   "metadata": {},
   "outputs": [
    {
     "name": "stdout",
     "output_type": "stream",
     "text": [
      "2/2 [==============================] - 0s\n"
     ]
    },
    {
     "data": {
      "text/plain": [
       "array([[  0.00000000e+00,   5.94762996e-31,   1.92614751e-29,\n",
       "          1.00000000e+00,   6.27150151e-26,   1.07077703e-18,\n",
       "          0.00000000e+00,   1.59109571e-25,   2.35087933e-23,\n",
       "          1.13694453e-17],\n",
       "       [  1.56447115e-07,   3.88126466e-07,   5.54812640e-10,\n",
       "          6.65738620e-09,   4.61473121e-15,   1.85473498e-10,\n",
       "          7.48043419e-07,   1.93043115e-09,   9.99998689e-01,\n",
       "          3.14068660e-09]], dtype=float32)"
      ]
     },
     "execution_count": 30,
     "metadata": {},
     "output_type": "execute_result"
    }
   ],
   "source": [
    "# estimate probabilities P(y|x)\n",
    "model.predict_proba(X_val[:2])"
   ]
  },
  {
   "cell_type": "code",
   "execution_count": 31,
   "metadata": {
    "collapsed": true
   },
   "outputs": [],
   "source": [
    "# Save trained weights\n",
    "model.save(\"weights.h5\")"
   ]
  },
  {
   "cell_type": "code",
   "execution_count": 32,
   "metadata": {},
   "outputs": [
    {
     "name": "stdout",
     "output_type": "stream",
     "text": [
      " 9920/10000 [============================>.] - ETA: 0s\n",
      "Loss, Accuracy =  [0.13746004912875387, 0.97570000000000001]\n"
     ]
    }
   ],
   "source": [
    "print(\"\\nLoss, Accuracy = \", model.evaluate(X_test, y_test))"
   ]
  },
  {
   "cell_type": "markdown",
   "metadata": {},
   "source": [
    "### Whoops!\n",
    "So far our model is staggeringly inefficient. There is something wring with it. Guess, what?"
   ]
  },
  {
   "cell_type": "code",
   "execution_count": 22,
   "metadata": {},
   "outputs": [
    {
     "name": "stdout",
     "output_type": "stream",
     "text": [
      " 9248/10000 [==========================>...] - ETA: 0s\n",
      "Test accuracy: 97.54 %\n",
      "Great job!\n"
     ]
    }
   ],
   "source": [
    "# Test score...\n",
    "test_predictions = model.predict_proba(X_test).argmax(axis=-1)\n",
    "test_answers = y_test.argmax(axis=-1)\n",
    "\n",
    "test_accuracy = np.mean(test_predictions==test_answers)\n",
    "\n",
    "print(\"\\nTest accuracy: {} %\".format(test_accuracy*100))\n",
    "\n",
    "assert test_accuracy>=0.92,\"Logistic regression can do better!\"\n",
    "assert test_accuracy>=0.975,\"Your network can do better!\"\n",
    "print(\"Great job!\")"
   ]
  },
  {
   "cell_type": "code",
   "execution_count": 23,
   "metadata": {
    "collapsed": true
   },
   "outputs": [],
   "source": [
    "answer_submitter = grading.Grader(\"0ybD9ZxxEeea8A6GzH-6CA\")\n",
    "answer_submitter.set_answer(\"N56DR\", test_accuracy)"
   ]
  },
  {
   "cell_type": "code",
   "execution_count": 24,
   "metadata": {},
   "outputs": [
    {
     "name": "stdout",
     "output_type": "stream",
     "text": [
      "Submitted to Coursera platform. See results on assignment page!\n"
     ]
    }
   ],
   "source": [
    "answer_submitter.submit(\"wanghaitang.ufl@gmail.com\", \"Jt7L6ndKTnix23iO\")"
   ]
  },
  {
   "cell_type": "markdown",
   "metadata": {},
   "source": [
    "## Keras + tensorboard\n",
    "\n",
    "Remember the interactive graphs from Tensorboard one notebook ago? \n",
    "\n",
    "Thing is, Keras can use tensorboard to show you a lot of useful information about the learning progress. Just take a look!"
   ]
  },
  {
   "cell_type": "code",
   "execution_count": 25,
   "metadata": {},
   "outputs": [
    {
     "name": "stdout",
     "output_type": "stream",
     "text": [
      "rm: cannot remove ‘/tmp/tboard/**’: No such file or directory\r\n"
     ]
    }
   ],
   "source": [
    "! rm -r /tmp/tboard/**"
   ]
  },
  {
   "cell_type": "code",
   "execution_count": 26,
   "metadata": {},
   "outputs": [
    {
     "name": "stdout",
     "output_type": "stream",
     "text": [
      "Train on 50000 samples, validate on 10000 samples\n",
      "Epoch 1/10\n",
      "50000/50000 [==============================] - 7s - loss: 0.0172 - acc: 0.9947 - val_loss: 0.1268 - val_acc: 0.9762\n",
      "Epoch 2/10\n",
      "50000/50000 [==============================] - 7s - loss: 0.0162 - acc: 0.9951 - val_loss: 0.1343 - val_acc: 0.9764\n",
      "Epoch 3/10\n",
      "50000/50000 [==============================] - 7s - loss: 0.0154 - acc: 0.9956 - val_loss: 0.1293 - val_acc: 0.9741\n",
      "Epoch 4/10\n",
      "50000/50000 [==============================] - 7s - loss: 0.0141 - acc: 0.9959 - val_loss: 0.1428 - val_acc: 0.9756\n",
      "Epoch 5/10\n",
      "50000/50000 [==============================] - 7s - loss: 0.0155 - acc: 0.9953 - val_loss: 0.1367 - val_acc: 0.9750\n",
      "Epoch 6/10\n",
      "50000/50000 [==============================] - 8s - loss: 0.0146 - acc: 0.9958 - val_loss: 0.1317 - val_acc: 0.9746\n",
      "Epoch 7/10\n",
      "50000/50000 [==============================] - 8s - loss: 0.0130 - acc: 0.9960 - val_loss: 0.1379 - val_acc: 0.9758\n",
      "Epoch 8/10\n",
      "50000/50000 [==============================] - 8s - loss: 0.0137 - acc: 0.9960 - val_loss: 0.1356 - val_acc: 0.9775\n",
      "Epoch 9/10\n",
      "50000/50000 [==============================] - 9s - loss: 0.0125 - acc: 0.9963 - val_loss: 0.1506 - val_acc: 0.9742\n",
      "Epoch 10/10\n",
      "50000/50000 [==============================] - 8s - loss: 0.0132 - acc: 0.9962 - val_loss: 0.1333 - val_acc: 0.9760\n"
     ]
    },
    {
     "data": {
      "text/plain": [
       "<keras.callbacks.History at 0x7fc28075bdd8>"
      ]
     },
     "execution_count": 26,
     "metadata": {},
     "output_type": "execute_result"
    }
   ],
   "source": [
    "from keras.callbacks import TensorBoard\n",
    "model.fit(X_train, y_train, validation_data=(X_val, y_val), \n",
    "          epochs=10,\n",
    "          callbacks=[TensorBoard(\"/tmp/tboard\")])"
   ]
  },
  {
   "cell_type": "markdown",
   "metadata": {},
   "source": [
    "# Tips & tricks\n",
    "\n",
    "Here are some tips on what you could do. Don't worry, to reach the passing threshold you don't need to try all the ideas listed here, feel free to stop once you reach the 0.975 accuracy mark.\n",
    "\n",
    " * __Network size__\n",
    "   * More neurons, \n",
    "   * More layers, ([docs](https://keras.io/))\n",
    "\n",
    "   * Nonlinearities in the hidden layers\n",
    "     * tanh, relu, leaky relu, etc\n",
    "   * Larger networks may take more epochs to train, so don't discard your net just because it could didn't beat the baseline in 5 epochs.\n",
    "\n",
    "\n",
    " * __Early Stopping__\n",
    "   * Training for 100 epochs regardless of anything is probably a bad idea.\n",
    "   * Some networks converge over 5 epochs, others - over 500.\n",
    "   * Way to go: stop when validation score is 10 iterations past maximum\n",
    "     \n",
    "\n",
    " * __Faster optimization__\n",
    "   * rmsprop, nesterov_momentum, adam, adagrad and so on.\n",
    "     * Converge faster and sometimes reach better optima\n",
    "     * It might make sense to tweak learning rate/momentum, other learning parameters, batch size and number of epochs\n",
    "\n",
    "\n",
    " * __Regularize__ to prevent overfitting\n",
    "   * Add some L2 weight norm to the loss function, theano will do the rest\n",
    "     * Can be done manually or via - https://keras.io/regularizers/\n",
    "   \n",
    "   \n",
    " * __Data augmemntation__ - getting 5x as large dataset for free is a great deal\n",
    "   * https://keras.io/preprocessing/image/\n",
    "   * Zoom-in+slice = move\n",
    "   * Rotate+zoom(to remove black stripes)\n",
    "   * any other perturbations\n",
    "   * Simple way to do that (if you have PIL/Image): \n",
    "     * ```from scipy.misc import imrotate,imresize```\n",
    "     * and a few slicing\n",
    "   * Stay realistic. There's usually no point in flipping dogs upside down as that is not the way you usually see them."
   ]
  }
 ],
 "metadata": {
  "kernelspec": {
   "display_name": "Python 3",
   "language": "python",
   "name": "python3"
  },
  "language_info": {
   "codemirror_mode": {
    "name": "ipython",
    "version": 3
   },
   "file_extension": ".py",
   "mimetype": "text/x-python",
   "name": "python",
   "nbconvert_exporter": "python",
   "pygments_lexer": "ipython3",
   "version": "3.6.0"
  },
  "toc": {
   "colors": {
    "hover_highlight": "#DAA520",
    "navigate_num": "#000000",
    "navigate_text": "#333333",
    "running_highlight": "#FF0000",
    "selected_highlight": "#FFD700",
    "sidebar_border": "#EEEEEE",
    "wrapper_background": "#FFFFFF"
   },
   "moveMenuLeft": true,
   "nav_menu": {
    "height": "120px",
    "width": "252px"
   },
   "navigate_menu": true,
   "number_sections": true,
   "sideBar": true,
   "threshold": 4,
   "toc_cell": false,
   "toc_section_display": "block",
   "toc_window_display": false,
   "widenNotebook": false
  }
 },
 "nbformat": 4,
 "nbformat_minor": 1
}
